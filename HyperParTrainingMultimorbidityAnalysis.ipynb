{
  "nbformat": 4,
  "nbformat_minor": 0,
  "metadata": {
    "colab": {
      "provenance": []
    },
    "kernelspec": {
      "name": "python3",
      "display_name": "Python 3"
    },
    "language_info": {
      "name": "python"
    }
  },
  "cells": [
    {
      "cell_type": "code",
      "execution_count": null,
      "metadata": {
        "id": "nFtygTx512bc",
        "colab": {
          "base_uri": "https://localhost:8080/"
        },
        "outputId": "478adf43-ef9a-4093-e817-be2d06c7cf83"
      },
      "outputs": [
        {
          "output_type": "stream",
          "name": "stdout",
          "text": [
            "Mounted at /content/drive\n"
          ]
        }
      ],
      "source": [
        "from google.colab import drive\n",
        "drive.mount('/content/drive')"
      ]
    },
    {
      "cell_type": "markdown",
      "source": [
        "Dataset Preview"
      ],
      "metadata": {
        "id": "o8rVbws32v7E"
      }
    },
    {
      "cell_type": "code",
      "source": [
        "import pandas as pd\n",
        "df = pd.read_csv('/content/drive/MyDrive/VAERSDATA/Multimorbidity_BP_D_HC_FS.csv',encoding='latin-1')\n",
        "df.head()"
      ],
      "metadata": {
        "colab": {
          "base_uri": "https://localhost:8080/",
          "height": 206
        },
        "id": "jk7hY_jr23Le",
        "outputId": "3d830151-37b4-43aa-a0d3-66277907bd40"
      },
      "execution_count": null,
      "outputs": [
        {
          "output_type": "execute_result",
          "data": {
            "text/plain": [
              "   AGE_YRS SEX L_THREAT HOSPITAL  HOSPDAYS X_STAY DISABLE RECOVD CUR_ILL HBP  \\\n",
              "0       42   F        N        N         0      N       N      U       Y   Y   \n",
              "1       71   F        N        N         0      N       N      N       Y   Y   \n",
              "2       44   M        N        N         0      N       N      Y       N   Y   \n",
              "3       44   M        N        N         0      N       N      Y       N   Y   \n",
              "4       49   F        N        N         0      N       N      Y       Y   Y   \n",
              "\n",
              "  DIABETES H_CHOL OTHER_ILLN PRIOR_VAX BIRTH_DEFECT OFC_VISIT ER_ED_VISIT  \\\n",
              "0        N      Y          Y         N            N         N           Y   \n",
              "1        Y      Y          Y         Y            N         N           N   \n",
              "2        Y      N          N         N            N         N           N   \n",
              "3        Y      N          N         N            N         N           N   \n",
              "4        Y      N          Y         N            N         N           Y   \n",
              "\n",
              "  DOSE_COMPLETE VAX_NAME DIED  \n",
              "0             N        E    N  \n",
              "1             N        E    N  \n",
              "2             N        E    N  \n",
              "3             N        E    N  \n",
              "4             N        E    N  "
            ],
            "text/html": [
              "\n",
              "  <div id=\"df-a617396d-cd6d-4f5b-9773-c5283943bf53\" class=\"colab-df-container\">\n",
              "    <div>\n",
              "<style scoped>\n",
              "    .dataframe tbody tr th:only-of-type {\n",
              "        vertical-align: middle;\n",
              "    }\n",
              "\n",
              "    .dataframe tbody tr th {\n",
              "        vertical-align: top;\n",
              "    }\n",
              "\n",
              "    .dataframe thead th {\n",
              "        text-align: right;\n",
              "    }\n",
              "</style>\n",
              "<table border=\"1\" class=\"dataframe\">\n",
              "  <thead>\n",
              "    <tr style=\"text-align: right;\">\n",
              "      <th></th>\n",
              "      <th>AGE_YRS</th>\n",
              "      <th>SEX</th>\n",
              "      <th>L_THREAT</th>\n",
              "      <th>HOSPITAL</th>\n",
              "      <th>HOSPDAYS</th>\n",
              "      <th>X_STAY</th>\n",
              "      <th>DISABLE</th>\n",
              "      <th>RECOVD</th>\n",
              "      <th>CUR_ILL</th>\n",
              "      <th>HBP</th>\n",
              "      <th>DIABETES</th>\n",
              "      <th>H_CHOL</th>\n",
              "      <th>OTHER_ILLN</th>\n",
              "      <th>PRIOR_VAX</th>\n",
              "      <th>BIRTH_DEFECT</th>\n",
              "      <th>OFC_VISIT</th>\n",
              "      <th>ER_ED_VISIT</th>\n",
              "      <th>DOSE_COMPLETE</th>\n",
              "      <th>VAX_NAME</th>\n",
              "      <th>DIED</th>\n",
              "    </tr>\n",
              "  </thead>\n",
              "  <tbody>\n",
              "    <tr>\n",
              "      <th>0</th>\n",
              "      <td>42</td>\n",
              "      <td>F</td>\n",
              "      <td>N</td>\n",
              "      <td>N</td>\n",
              "      <td>0</td>\n",
              "      <td>N</td>\n",
              "      <td>N</td>\n",
              "      <td>U</td>\n",
              "      <td>Y</td>\n",
              "      <td>Y</td>\n",
              "      <td>N</td>\n",
              "      <td>Y</td>\n",
              "      <td>Y</td>\n",
              "      <td>N</td>\n",
              "      <td>N</td>\n",
              "      <td>N</td>\n",
              "      <td>Y</td>\n",
              "      <td>N</td>\n",
              "      <td>E</td>\n",
              "      <td>N</td>\n",
              "    </tr>\n",
              "    <tr>\n",
              "      <th>1</th>\n",
              "      <td>71</td>\n",
              "      <td>F</td>\n",
              "      <td>N</td>\n",
              "      <td>N</td>\n",
              "      <td>0</td>\n",
              "      <td>N</td>\n",
              "      <td>N</td>\n",
              "      <td>N</td>\n",
              "      <td>Y</td>\n",
              "      <td>Y</td>\n",
              "      <td>Y</td>\n",
              "      <td>Y</td>\n",
              "      <td>Y</td>\n",
              "      <td>Y</td>\n",
              "      <td>N</td>\n",
              "      <td>N</td>\n",
              "      <td>N</td>\n",
              "      <td>N</td>\n",
              "      <td>E</td>\n",
              "      <td>N</td>\n",
              "    </tr>\n",
              "    <tr>\n",
              "      <th>2</th>\n",
              "      <td>44</td>\n",
              "      <td>M</td>\n",
              "      <td>N</td>\n",
              "      <td>N</td>\n",
              "      <td>0</td>\n",
              "      <td>N</td>\n",
              "      <td>N</td>\n",
              "      <td>Y</td>\n",
              "      <td>N</td>\n",
              "      <td>Y</td>\n",
              "      <td>Y</td>\n",
              "      <td>N</td>\n",
              "      <td>N</td>\n",
              "      <td>N</td>\n",
              "      <td>N</td>\n",
              "      <td>N</td>\n",
              "      <td>N</td>\n",
              "      <td>N</td>\n",
              "      <td>E</td>\n",
              "      <td>N</td>\n",
              "    </tr>\n",
              "    <tr>\n",
              "      <th>3</th>\n",
              "      <td>44</td>\n",
              "      <td>M</td>\n",
              "      <td>N</td>\n",
              "      <td>N</td>\n",
              "      <td>0</td>\n",
              "      <td>N</td>\n",
              "      <td>N</td>\n",
              "      <td>Y</td>\n",
              "      <td>N</td>\n",
              "      <td>Y</td>\n",
              "      <td>Y</td>\n",
              "      <td>N</td>\n",
              "      <td>N</td>\n",
              "      <td>N</td>\n",
              "      <td>N</td>\n",
              "      <td>N</td>\n",
              "      <td>N</td>\n",
              "      <td>N</td>\n",
              "      <td>E</td>\n",
              "      <td>N</td>\n",
              "    </tr>\n",
              "    <tr>\n",
              "      <th>4</th>\n",
              "      <td>49</td>\n",
              "      <td>F</td>\n",
              "      <td>N</td>\n",
              "      <td>N</td>\n",
              "      <td>0</td>\n",
              "      <td>N</td>\n",
              "      <td>N</td>\n",
              "      <td>Y</td>\n",
              "      <td>Y</td>\n",
              "      <td>Y</td>\n",
              "      <td>Y</td>\n",
              "      <td>N</td>\n",
              "      <td>Y</td>\n",
              "      <td>N</td>\n",
              "      <td>N</td>\n",
              "      <td>N</td>\n",
              "      <td>Y</td>\n",
              "      <td>N</td>\n",
              "      <td>E</td>\n",
              "      <td>N</td>\n",
              "    </tr>\n",
              "  </tbody>\n",
              "</table>\n",
              "</div>\n",
              "    <div class=\"colab-df-buttons\">\n",
              "\n",
              "  <div class=\"colab-df-container\">\n",
              "    <button class=\"colab-df-convert\" onclick=\"convertToInteractive('df-a617396d-cd6d-4f5b-9773-c5283943bf53')\"\n",
              "            title=\"Convert this dataframe to an interactive table.\"\n",
              "            style=\"display:none;\">\n",
              "\n",
              "  <svg xmlns=\"http://www.w3.org/2000/svg\" height=\"24px\" viewBox=\"0 -960 960 960\">\n",
              "    <path d=\"M120-120v-720h720v720H120Zm60-500h600v-160H180v160Zm220 220h160v-160H400v160Zm0 220h160v-160H400v160ZM180-400h160v-160H180v160Zm440 0h160v-160H620v160ZM180-180h160v-160H180v160Zm440 0h160v-160H620v160Z\"/>\n",
              "  </svg>\n",
              "    </button>\n",
              "\n",
              "  <style>\n",
              "    .colab-df-container {\n",
              "      display:flex;\n",
              "      gap: 12px;\n",
              "    }\n",
              "\n",
              "    .colab-df-convert {\n",
              "      background-color: #E8F0FE;\n",
              "      border: none;\n",
              "      border-radius: 50%;\n",
              "      cursor: pointer;\n",
              "      display: none;\n",
              "      fill: #1967D2;\n",
              "      height: 32px;\n",
              "      padding: 0 0 0 0;\n",
              "      width: 32px;\n",
              "    }\n",
              "\n",
              "    .colab-df-convert:hover {\n",
              "      background-color: #E2EBFA;\n",
              "      box-shadow: 0px 1px 2px rgba(60, 64, 67, 0.3), 0px 1px 3px 1px rgba(60, 64, 67, 0.15);\n",
              "      fill: #174EA6;\n",
              "    }\n",
              "\n",
              "    .colab-df-buttons div {\n",
              "      margin-bottom: 4px;\n",
              "    }\n",
              "\n",
              "    [theme=dark] .colab-df-convert {\n",
              "      background-color: #3B4455;\n",
              "      fill: #D2E3FC;\n",
              "    }\n",
              "\n",
              "    [theme=dark] .colab-df-convert:hover {\n",
              "      background-color: #434B5C;\n",
              "      box-shadow: 0px 1px 3px 1px rgba(0, 0, 0, 0.15);\n",
              "      filter: drop-shadow(0px 1px 2px rgba(0, 0, 0, 0.3));\n",
              "      fill: #FFFFFF;\n",
              "    }\n",
              "  </style>\n",
              "\n",
              "    <script>\n",
              "      const buttonEl =\n",
              "        document.querySelector('#df-a617396d-cd6d-4f5b-9773-c5283943bf53 button.colab-df-convert');\n",
              "      buttonEl.style.display =\n",
              "        google.colab.kernel.accessAllowed ? 'block' : 'none';\n",
              "\n",
              "      async function convertToInteractive(key) {\n",
              "        const element = document.querySelector('#df-a617396d-cd6d-4f5b-9773-c5283943bf53');\n",
              "        const dataTable =\n",
              "          await google.colab.kernel.invokeFunction('convertToInteractive',\n",
              "                                                    [key], {});\n",
              "        if (!dataTable) return;\n",
              "\n",
              "        const docLinkHtml = 'Like what you see? Visit the ' +\n",
              "          '<a target=\"_blank\" href=https://colab.research.google.com/notebooks/data_table.ipynb>data table notebook</a>'\n",
              "          + ' to learn more about interactive tables.';\n",
              "        element.innerHTML = '';\n",
              "        dataTable['output_type'] = 'display_data';\n",
              "        await google.colab.output.renderOutput(dataTable, element);\n",
              "        const docLink = document.createElement('div');\n",
              "        docLink.innerHTML = docLinkHtml;\n",
              "        element.appendChild(docLink);\n",
              "      }\n",
              "    </script>\n",
              "  </div>\n",
              "\n",
              "\n",
              "<div id=\"df-a17bc764-0a3e-42da-b59f-60e5e028f581\">\n",
              "  <button class=\"colab-df-quickchart\" onclick=\"quickchart('df-a17bc764-0a3e-42da-b59f-60e5e028f581')\"\n",
              "            title=\"Suggest charts\"\n",
              "            style=\"display:none;\">\n",
              "\n",
              "<svg xmlns=\"http://www.w3.org/2000/svg\" height=\"24px\"viewBox=\"0 0 24 24\"\n",
              "     width=\"24px\">\n",
              "    <g>\n",
              "        <path d=\"M19 3H5c-1.1 0-2 .9-2 2v14c0 1.1.9 2 2 2h14c1.1 0 2-.9 2-2V5c0-1.1-.9-2-2-2zM9 17H7v-7h2v7zm4 0h-2V7h2v10zm4 0h-2v-4h2v4z\"/>\n",
              "    </g>\n",
              "</svg>\n",
              "  </button>\n",
              "\n",
              "<style>\n",
              "  .colab-df-quickchart {\n",
              "      --bg-color: #E8F0FE;\n",
              "      --fill-color: #1967D2;\n",
              "      --hover-bg-color: #E2EBFA;\n",
              "      --hover-fill-color: #174EA6;\n",
              "      --disabled-fill-color: #AAA;\n",
              "      --disabled-bg-color: #DDD;\n",
              "  }\n",
              "\n",
              "  [theme=dark] .colab-df-quickchart {\n",
              "      --bg-color: #3B4455;\n",
              "      --fill-color: #D2E3FC;\n",
              "      --hover-bg-color: #434B5C;\n",
              "      --hover-fill-color: #FFFFFF;\n",
              "      --disabled-bg-color: #3B4455;\n",
              "      --disabled-fill-color: #666;\n",
              "  }\n",
              "\n",
              "  .colab-df-quickchart {\n",
              "    background-color: var(--bg-color);\n",
              "    border: none;\n",
              "    border-radius: 50%;\n",
              "    cursor: pointer;\n",
              "    display: none;\n",
              "    fill: var(--fill-color);\n",
              "    height: 32px;\n",
              "    padding: 0;\n",
              "    width: 32px;\n",
              "  }\n",
              "\n",
              "  .colab-df-quickchart:hover {\n",
              "    background-color: var(--hover-bg-color);\n",
              "    box-shadow: 0 1px 2px rgba(60, 64, 67, 0.3), 0 1px 3px 1px rgba(60, 64, 67, 0.15);\n",
              "    fill: var(--button-hover-fill-color);\n",
              "  }\n",
              "\n",
              "  .colab-df-quickchart-complete:disabled,\n",
              "  .colab-df-quickchart-complete:disabled:hover {\n",
              "    background-color: var(--disabled-bg-color);\n",
              "    fill: var(--disabled-fill-color);\n",
              "    box-shadow: none;\n",
              "  }\n",
              "\n",
              "  .colab-df-spinner {\n",
              "    border: 2px solid var(--fill-color);\n",
              "    border-color: transparent;\n",
              "    border-bottom-color: var(--fill-color);\n",
              "    animation:\n",
              "      spin 1s steps(1) infinite;\n",
              "  }\n",
              "\n",
              "  @keyframes spin {\n",
              "    0% {\n",
              "      border-color: transparent;\n",
              "      border-bottom-color: var(--fill-color);\n",
              "      border-left-color: var(--fill-color);\n",
              "    }\n",
              "    20% {\n",
              "      border-color: transparent;\n",
              "      border-left-color: var(--fill-color);\n",
              "      border-top-color: var(--fill-color);\n",
              "    }\n",
              "    30% {\n",
              "      border-color: transparent;\n",
              "      border-left-color: var(--fill-color);\n",
              "      border-top-color: var(--fill-color);\n",
              "      border-right-color: var(--fill-color);\n",
              "    }\n",
              "    40% {\n",
              "      border-color: transparent;\n",
              "      border-right-color: var(--fill-color);\n",
              "      border-top-color: var(--fill-color);\n",
              "    }\n",
              "    60% {\n",
              "      border-color: transparent;\n",
              "      border-right-color: var(--fill-color);\n",
              "    }\n",
              "    80% {\n",
              "      border-color: transparent;\n",
              "      border-right-color: var(--fill-color);\n",
              "      border-bottom-color: var(--fill-color);\n",
              "    }\n",
              "    90% {\n",
              "      border-color: transparent;\n",
              "      border-bottom-color: var(--fill-color);\n",
              "    }\n",
              "  }\n",
              "</style>\n",
              "\n",
              "  <script>\n",
              "    async function quickchart(key) {\n",
              "      const quickchartButtonEl =\n",
              "        document.querySelector('#' + key + ' button');\n",
              "      quickchartButtonEl.disabled = true;  // To prevent multiple clicks.\n",
              "      quickchartButtonEl.classList.add('colab-df-spinner');\n",
              "      try {\n",
              "        const charts = await google.colab.kernel.invokeFunction(\n",
              "            'suggestCharts', [key], {});\n",
              "      } catch (error) {\n",
              "        console.error('Error during call to suggestCharts:', error);\n",
              "      }\n",
              "      quickchartButtonEl.classList.remove('colab-df-spinner');\n",
              "      quickchartButtonEl.classList.add('colab-df-quickchart-complete');\n",
              "    }\n",
              "    (() => {\n",
              "      let quickchartButtonEl =\n",
              "        document.querySelector('#df-a17bc764-0a3e-42da-b59f-60e5e028f581 button');\n",
              "      quickchartButtonEl.style.display =\n",
              "        google.colab.kernel.accessAllowed ? 'block' : 'none';\n",
              "    })();\n",
              "  </script>\n",
              "</div>\n",
              "\n",
              "    </div>\n",
              "  </div>\n"
            ],
            "application/vnd.google.colaboratory.intrinsic+json": {
              "type": "dataframe",
              "variable_name": "df",
              "summary": "{\n  \"name\": \"df\",\n  \"rows\": 11077,\n  \"fields\": [\n    {\n      \"column\": \"AGE_YRS\",\n      \"properties\": {\n        \"dtype\": \"number\",\n        \"std\": 13,\n        \"min\": 18,\n        \"max\": 103,\n        \"num_unique_values\": 85,\n        \"samples\": [\n          19,\n          42,\n          100\n        ],\n        \"semantic_type\": \"\",\n        \"description\": \"\"\n      }\n    },\n    {\n      \"column\": \"SEX\",\n      \"properties\": {\n        \"dtype\": \"category\",\n        \"num_unique_values\": 2,\n        \"samples\": [\n          \"M\",\n          \"F\"\n        ],\n        \"semantic_type\": \"\",\n        \"description\": \"\"\n      }\n    },\n    {\n      \"column\": \"L_THREAT\",\n      \"properties\": {\n        \"dtype\": \"category\",\n        \"num_unique_values\": 2,\n        \"samples\": [\n          \"Y\",\n          \"N\"\n        ],\n        \"semantic_type\": \"\",\n        \"description\": \"\"\n      }\n    },\n    {\n      \"column\": \"HOSPITAL\",\n      \"properties\": {\n        \"dtype\": \"category\",\n        \"num_unique_values\": 2,\n        \"samples\": [\n          \"Y\",\n          \"N\"\n        ],\n        \"semantic_type\": \"\",\n        \"description\": \"\"\n      }\n    },\n    {\n      \"column\": \"HOSPDAYS\",\n      \"properties\": {\n        \"dtype\": \"number\",\n        \"std\": 5,\n        \"min\": 0,\n        \"max\": 91,\n        \"num_unique_values\": 59,\n        \"samples\": [\n          0,\n          8\n        ],\n        \"semantic_type\": \"\",\n        \"description\": \"\"\n      }\n    },\n    {\n      \"column\": \"X_STAY\",\n      \"properties\": {\n        \"dtype\": \"category\",\n        \"num_unique_values\": 2,\n        \"samples\": [\n          \"Y\",\n          \"N\"\n        ],\n        \"semantic_type\": \"\",\n        \"description\": \"\"\n      }\n    },\n    {\n      \"column\": \"DISABLE\",\n      \"properties\": {\n        \"dtype\": \"category\",\n        \"num_unique_values\": 2,\n        \"samples\": [\n          \"Y\",\n          \"N\"\n        ],\n        \"semantic_type\": \"\",\n        \"description\": \"\"\n      }\n    },\n    {\n      \"column\": \"RECOVD\",\n      \"properties\": {\n        \"dtype\": \"category\",\n        \"num_unique_values\": 3,\n        \"samples\": [\n          \"U\",\n          \"N\"\n        ],\n        \"semantic_type\": \"\",\n        \"description\": \"\"\n      }\n    },\n    {\n      \"column\": \"CUR_ILL\",\n      \"properties\": {\n        \"dtype\": \"category\",\n        \"num_unique_values\": 2,\n        \"samples\": [\n          \"N\",\n          \"Y\"\n        ],\n        \"semantic_type\": \"\",\n        \"description\": \"\"\n      }\n    },\n    {\n      \"column\": \"HBP\",\n      \"properties\": {\n        \"dtype\": \"category\",\n        \"num_unique_values\": 2,\n        \"samples\": [\n          \"N\",\n          \"Y\"\n        ],\n        \"semantic_type\": \"\",\n        \"description\": \"\"\n      }\n    },\n    {\n      \"column\": \"DIABETES\",\n      \"properties\": {\n        \"dtype\": \"category\",\n        \"num_unique_values\": 2,\n        \"samples\": [\n          \"Y\",\n          \"N\"\n        ],\n        \"semantic_type\": \"\",\n        \"description\": \"\"\n      }\n    },\n    {\n      \"column\": \"H_CHOL\",\n      \"properties\": {\n        \"dtype\": \"category\",\n        \"num_unique_values\": 2,\n        \"samples\": [\n          \"N\",\n          \"Y\"\n        ],\n        \"semantic_type\": \"\",\n        \"description\": \"\"\n      }\n    },\n    {\n      \"column\": \"OTHER_ILLN\",\n      \"properties\": {\n        \"dtype\": \"category\",\n        \"num_unique_values\": 2,\n        \"samples\": [\n          \"N\",\n          \"Y\"\n        ],\n        \"semantic_type\": \"\",\n        \"description\": \"\"\n      }\n    },\n    {\n      \"column\": \"PRIOR_VAX\",\n      \"properties\": {\n        \"dtype\": \"category\",\n        \"num_unique_values\": 2,\n        \"samples\": [\n          \"Y\",\n          \"N\"\n        ],\n        \"semantic_type\": \"\",\n        \"description\": \"\"\n      }\n    },\n    {\n      \"column\": \"BIRTH_DEFECT\",\n      \"properties\": {\n        \"dtype\": \"category\",\n        \"num_unique_values\": 2,\n        \"samples\": [\n          \"Y\",\n          \"N\"\n        ],\n        \"semantic_type\": \"\",\n        \"description\": \"\"\n      }\n    },\n    {\n      \"column\": \"OFC_VISIT\",\n      \"properties\": {\n        \"dtype\": \"category\",\n        \"num_unique_values\": 2,\n        \"samples\": [\n          \"Y\",\n          \"N\"\n        ],\n        \"semantic_type\": \"\",\n        \"description\": \"\"\n      }\n    },\n    {\n      \"column\": \"ER_ED_VISIT\",\n      \"properties\": {\n        \"dtype\": \"category\",\n        \"num_unique_values\": 2,\n        \"samples\": [\n          \"N\",\n          \"Y\"\n        ],\n        \"semantic_type\": \"\",\n        \"description\": \"\"\n      }\n    },\n    {\n      \"column\": \"DOSE_COMPLETE\",\n      \"properties\": {\n        \"dtype\": \"category\",\n        \"num_unique_values\": 2,\n        \"samples\": [\n          \"Y\",\n          \"N\"\n        ],\n        \"semantic_type\": \"\",\n        \"description\": \"\"\n      }\n    },\n    {\n      \"column\": \"VAX_NAME\",\n      \"properties\": {\n        \"dtype\": \"category\",\n        \"num_unique_values\": 6,\n        \"samples\": [\n          \"E\",\n          \"B\"\n        ],\n        \"semantic_type\": \"\",\n        \"description\": \"\"\n      }\n    },\n    {\n      \"column\": \"DIED\",\n      \"properties\": {\n        \"dtype\": \"category\",\n        \"num_unique_values\": 2,\n        \"samples\": [\n          \"Y\",\n          \"N\"\n        ],\n        \"semantic_type\": \"\",\n        \"description\": \"\"\n      }\n    }\n  ]\n}"
            }
          },
          "metadata": {},
          "execution_count": 5
        }
      ]
    },
    {
      "cell_type": "markdown",
      "source": [
        "View the Dimension of the Dataset"
      ],
      "metadata": {
        "id": "Ai91W5ZH3qf7"
      }
    },
    {
      "cell_type": "code",
      "source": [
        "# print the shape\n",
        "print(\"Shape of the Dataset: {}\".format(df.shape))\n"
      ],
      "metadata": {
        "colab": {
          "base_uri": "https://localhost:8080/"
        },
        "id": "PsjFSWWC3ztw",
        "outputId": "606d1227-2093-4c51-ee67-73137f52557c"
      },
      "execution_count": null,
      "outputs": [
        {
          "output_type": "stream",
          "name": "stdout",
          "text": [
            "Shape of the Dataset: (11077, 20)\n"
          ]
        }
      ]
    },
    {
      "cell_type": "markdown",
      "source": [
        "There are 11077 instances and 20 attributes in the data set."
      ],
      "metadata": {
        "id": "d5ofu4MJ4fRw"
      }
    },
    {
      "cell_type": "markdown",
      "source": [
        "View the Summary of the Dataset"
      ],
      "metadata": {
        "id": "2M4MmPNq4oFa"
      }
    },
    {
      "cell_type": "code",
      "source": [
        "df.info()"
      ],
      "metadata": {
        "colab": {
          "base_uri": "https://localhost:8080/"
        },
        "id": "xDp8gBu24yLC",
        "outputId": "73391658-c2c1-47c2-ecd4-cbe4482262ed"
      },
      "execution_count": null,
      "outputs": [
        {
          "output_type": "stream",
          "name": "stdout",
          "text": [
            "<class 'pandas.core.frame.DataFrame'>\n",
            "RangeIndex: 11077 entries, 0 to 11076\n",
            "Data columns (total 20 columns):\n",
            " #   Column         Non-Null Count  Dtype \n",
            "---  ------         --------------  ----- \n",
            " 0   AGE_YRS        11077 non-null  int64 \n",
            " 1   SEX            11077 non-null  object\n",
            " 2   L_THREAT       11077 non-null  object\n",
            " 3   HOSPITAL       11077 non-null  object\n",
            " 4   HOSPDAYS       11077 non-null  int64 \n",
            " 5   X_STAY         11077 non-null  object\n",
            " 6   DISABLE        11077 non-null  object\n",
            " 7   RECOVD         11077 non-null  object\n",
            " 8   CUR_ILL        11077 non-null  object\n",
            " 9   HBP            11077 non-null  object\n",
            " 10  DIABETES       11077 non-null  object\n",
            " 11  H_CHOL         11077 non-null  object\n",
            " 12  OTHER_ILLN     11077 non-null  object\n",
            " 13  PRIOR_VAX      11077 non-null  object\n",
            " 14  BIRTH_DEFECT   11077 non-null  object\n",
            " 15  OFC_VISIT      11077 non-null  object\n",
            " 16  ER_ED_VISIT    11077 non-null  object\n",
            " 17  DOSE_COMPLETE  11077 non-null  object\n",
            " 18  VAX_NAME       11077 non-null  object\n",
            " 19  DIED           11077 non-null  object\n",
            "dtypes: int64(2), object(18)\n",
            "memory usage: 1.7+ MB\n"
          ]
        }
      ]
    },
    {
      "cell_type": "markdown",
      "source": [
        "Check the Categorical and Numerical Columns"
      ],
      "metadata": {
        "id": "FrCNgiFY5Bdg"
      }
    },
    {
      "cell_type": "code",
      "source": [
        "# Categorical columns\n",
        "cat_col = [col for col in df.columns if df[col].dtype == 'object']\n",
        "print('Categorical columns :',cat_col)\n",
        "print('There are {} categorical variables\\n'.format(len(cat_col)))\n",
        "# Numerical columns\n",
        "num_col = [col for col in df.columns if df[col].dtype != 'object']\n",
        "print('Numerical columns :',num_col)\n",
        "print('There are {} numerical variables\\n'.format(len(num_col)))\n"
      ],
      "metadata": {
        "colab": {
          "base_uri": "https://localhost:8080/"
        },
        "id": "L0oYLbwh4-06",
        "outputId": "7ac2a02a-803a-437b-e039-66b77cd3d21a"
      },
      "execution_count": null,
      "outputs": [
        {
          "output_type": "stream",
          "name": "stdout",
          "text": [
            "Categorical columns : ['SEX', 'L_THREAT', 'HOSPITAL', 'X_STAY', 'DISABLE', 'RECOVD', 'CUR_ILL', 'HBP', 'DIABETES', 'H_CHOL', 'OTHER_ILLN', 'PRIOR_VAX', 'BIRTH_DEFECT', 'OFC_VISIT', 'ER_ED_VISIT', 'DOSE_COMPLETE', 'VAX_NAME', 'DIED']\n",
            "There are 18 categorical variables\n",
            "\n",
            "Numerical columns : ['AGE_YRS', 'HOSPDAYS']\n",
            "There are 2 numerical variables\n",
            "\n"
          ]
        }
      ]
    },
    {
      "cell_type": "markdown",
      "source": [
        "Statistical Properties of the data"
      ],
      "metadata": {
        "id": "KxQUQwu-5eC_"
      }
    },
    {
      "cell_type": "code",
      "source": [
        "df.describe(include='all') # for both numerical and categorical variables\n"
      ],
      "metadata": {
        "colab": {
          "base_uri": "https://localhost:8080/",
          "height": 394
        },
        "id": "Equ2ynw05nRx",
        "outputId": "fa4f4d97-295b-4ba7-8e0e-80452dfa410e"
      },
      "execution_count": null,
      "outputs": [
        {
          "output_type": "execute_result",
          "data": {
            "text/plain": [
              "             AGE_YRS    SEX L_THREAT HOSPITAL      HOSPDAYS X_STAY DISABLE  \\\n",
              "count   11077.000000  11077    11077    11077  11077.000000  11077   11077   \n",
              "unique           NaN      2        2        2           NaN      2       2   \n",
              "top              NaN      F        N        N           NaN      N       N   \n",
              "freq             NaN   6242    10751     6917           NaN  11066   10764   \n",
              "mean       66.620204    NaN      NaN      NaN      1.996660    NaN     NaN   \n",
              "std        13.287135    NaN      NaN      NaN      5.022654    NaN     NaN   \n",
              "min        18.000000    NaN      NaN      NaN      0.000000    NaN     NaN   \n",
              "25%        58.000000    NaN      NaN      NaN      0.000000    NaN     NaN   \n",
              "50%        67.000000    NaN      NaN      NaN      0.000000    NaN     NaN   \n",
              "75%        76.000000    NaN      NaN      NaN      2.000000    NaN     NaN   \n",
              "max       103.000000    NaN      NaN      NaN     91.000000    NaN     NaN   \n",
              "\n",
              "       RECOVD CUR_ILL    HBP DIABETES H_CHOL OTHER_ILLN PRIOR_VAX  \\\n",
              "count   11077   11077  11077    11077  11077      11077     11077   \n",
              "unique      3       2      2        2      2          2         2   \n",
              "top         N       N      Y        Y      Y          Y         N   \n",
              "freq     4493    9235  11040     6958   6947       9142     10561   \n",
              "mean      NaN     NaN    NaN      NaN    NaN        NaN       NaN   \n",
              "std       NaN     NaN    NaN      NaN    NaN        NaN       NaN   \n",
              "min       NaN     NaN    NaN      NaN    NaN        NaN       NaN   \n",
              "25%       NaN     NaN    NaN      NaN    NaN        NaN       NaN   \n",
              "50%       NaN     NaN    NaN      NaN    NaN        NaN       NaN   \n",
              "75%       NaN     NaN    NaN      NaN    NaN        NaN       NaN   \n",
              "max       NaN     NaN    NaN      NaN    NaN        NaN       NaN   \n",
              "\n",
              "       BIRTH_DEFECT OFC_VISIT ER_ED_VISIT DOSE_COMPLETE VAX_NAME   DIED  \n",
              "count         11077     11077       11077         11077    11077  11077  \n",
              "unique            2         2           2             2        6      2  \n",
              "top               N         N           N             N        E      N  \n",
              "freq          11071      8207        8585          5760     5141  10042  \n",
              "mean            NaN       NaN         NaN           NaN      NaN    NaN  \n",
              "std             NaN       NaN         NaN           NaN      NaN    NaN  \n",
              "min             NaN       NaN         NaN           NaN      NaN    NaN  \n",
              "25%             NaN       NaN         NaN           NaN      NaN    NaN  \n",
              "50%             NaN       NaN         NaN           NaN      NaN    NaN  \n",
              "75%             NaN       NaN         NaN           NaN      NaN    NaN  \n",
              "max             NaN       NaN         NaN           NaN      NaN    NaN  "
            ],
            "text/html": [
              "\n",
              "  <div id=\"df-99279629-f222-4c4b-b5a7-a6f12a130d48\" class=\"colab-df-container\">\n",
              "    <div>\n",
              "<style scoped>\n",
              "    .dataframe tbody tr th:only-of-type {\n",
              "        vertical-align: middle;\n",
              "    }\n",
              "\n",
              "    .dataframe tbody tr th {\n",
              "        vertical-align: top;\n",
              "    }\n",
              "\n",
              "    .dataframe thead th {\n",
              "        text-align: right;\n",
              "    }\n",
              "</style>\n",
              "<table border=\"1\" class=\"dataframe\">\n",
              "  <thead>\n",
              "    <tr style=\"text-align: right;\">\n",
              "      <th></th>\n",
              "      <th>AGE_YRS</th>\n",
              "      <th>SEX</th>\n",
              "      <th>L_THREAT</th>\n",
              "      <th>HOSPITAL</th>\n",
              "      <th>HOSPDAYS</th>\n",
              "      <th>X_STAY</th>\n",
              "      <th>DISABLE</th>\n",
              "      <th>RECOVD</th>\n",
              "      <th>CUR_ILL</th>\n",
              "      <th>HBP</th>\n",
              "      <th>DIABETES</th>\n",
              "      <th>H_CHOL</th>\n",
              "      <th>OTHER_ILLN</th>\n",
              "      <th>PRIOR_VAX</th>\n",
              "      <th>BIRTH_DEFECT</th>\n",
              "      <th>OFC_VISIT</th>\n",
              "      <th>ER_ED_VISIT</th>\n",
              "      <th>DOSE_COMPLETE</th>\n",
              "      <th>VAX_NAME</th>\n",
              "      <th>DIED</th>\n",
              "    </tr>\n",
              "  </thead>\n",
              "  <tbody>\n",
              "    <tr>\n",
              "      <th>count</th>\n",
              "      <td>11077.000000</td>\n",
              "      <td>11077</td>\n",
              "      <td>11077</td>\n",
              "      <td>11077</td>\n",
              "      <td>11077.000000</td>\n",
              "      <td>11077</td>\n",
              "      <td>11077</td>\n",
              "      <td>11077</td>\n",
              "      <td>11077</td>\n",
              "      <td>11077</td>\n",
              "      <td>11077</td>\n",
              "      <td>11077</td>\n",
              "      <td>11077</td>\n",
              "      <td>11077</td>\n",
              "      <td>11077</td>\n",
              "      <td>11077</td>\n",
              "      <td>11077</td>\n",
              "      <td>11077</td>\n",
              "      <td>11077</td>\n",
              "      <td>11077</td>\n",
              "    </tr>\n",
              "    <tr>\n",
              "      <th>unique</th>\n",
              "      <td>NaN</td>\n",
              "      <td>2</td>\n",
              "      <td>2</td>\n",
              "      <td>2</td>\n",
              "      <td>NaN</td>\n",
              "      <td>2</td>\n",
              "      <td>2</td>\n",
              "      <td>3</td>\n",
              "      <td>2</td>\n",
              "      <td>2</td>\n",
              "      <td>2</td>\n",
              "      <td>2</td>\n",
              "      <td>2</td>\n",
              "      <td>2</td>\n",
              "      <td>2</td>\n",
              "      <td>2</td>\n",
              "      <td>2</td>\n",
              "      <td>2</td>\n",
              "      <td>6</td>\n",
              "      <td>2</td>\n",
              "    </tr>\n",
              "    <tr>\n",
              "      <th>top</th>\n",
              "      <td>NaN</td>\n",
              "      <td>F</td>\n",
              "      <td>N</td>\n",
              "      <td>N</td>\n",
              "      <td>NaN</td>\n",
              "      <td>N</td>\n",
              "      <td>N</td>\n",
              "      <td>N</td>\n",
              "      <td>N</td>\n",
              "      <td>Y</td>\n",
              "      <td>Y</td>\n",
              "      <td>Y</td>\n",
              "      <td>Y</td>\n",
              "      <td>N</td>\n",
              "      <td>N</td>\n",
              "      <td>N</td>\n",
              "      <td>N</td>\n",
              "      <td>N</td>\n",
              "      <td>E</td>\n",
              "      <td>N</td>\n",
              "    </tr>\n",
              "    <tr>\n",
              "      <th>freq</th>\n",
              "      <td>NaN</td>\n",
              "      <td>6242</td>\n",
              "      <td>10751</td>\n",
              "      <td>6917</td>\n",
              "      <td>NaN</td>\n",
              "      <td>11066</td>\n",
              "      <td>10764</td>\n",
              "      <td>4493</td>\n",
              "      <td>9235</td>\n",
              "      <td>11040</td>\n",
              "      <td>6958</td>\n",
              "      <td>6947</td>\n",
              "      <td>9142</td>\n",
              "      <td>10561</td>\n",
              "      <td>11071</td>\n",
              "      <td>8207</td>\n",
              "      <td>8585</td>\n",
              "      <td>5760</td>\n",
              "      <td>5141</td>\n",
              "      <td>10042</td>\n",
              "    </tr>\n",
              "    <tr>\n",
              "      <th>mean</th>\n",
              "      <td>66.620204</td>\n",
              "      <td>NaN</td>\n",
              "      <td>NaN</td>\n",
              "      <td>NaN</td>\n",
              "      <td>1.996660</td>\n",
              "      <td>NaN</td>\n",
              "      <td>NaN</td>\n",
              "      <td>NaN</td>\n",
              "      <td>NaN</td>\n",
              "      <td>NaN</td>\n",
              "      <td>NaN</td>\n",
              "      <td>NaN</td>\n",
              "      <td>NaN</td>\n",
              "      <td>NaN</td>\n",
              "      <td>NaN</td>\n",
              "      <td>NaN</td>\n",
              "      <td>NaN</td>\n",
              "      <td>NaN</td>\n",
              "      <td>NaN</td>\n",
              "      <td>NaN</td>\n",
              "    </tr>\n",
              "    <tr>\n",
              "      <th>std</th>\n",
              "      <td>13.287135</td>\n",
              "      <td>NaN</td>\n",
              "      <td>NaN</td>\n",
              "      <td>NaN</td>\n",
              "      <td>5.022654</td>\n",
              "      <td>NaN</td>\n",
              "      <td>NaN</td>\n",
              "      <td>NaN</td>\n",
              "      <td>NaN</td>\n",
              "      <td>NaN</td>\n",
              "      <td>NaN</td>\n",
              "      <td>NaN</td>\n",
              "      <td>NaN</td>\n",
              "      <td>NaN</td>\n",
              "      <td>NaN</td>\n",
              "      <td>NaN</td>\n",
              "      <td>NaN</td>\n",
              "      <td>NaN</td>\n",
              "      <td>NaN</td>\n",
              "      <td>NaN</td>\n",
              "    </tr>\n",
              "    <tr>\n",
              "      <th>min</th>\n",
              "      <td>18.000000</td>\n",
              "      <td>NaN</td>\n",
              "      <td>NaN</td>\n",
              "      <td>NaN</td>\n",
              "      <td>0.000000</td>\n",
              "      <td>NaN</td>\n",
              "      <td>NaN</td>\n",
              "      <td>NaN</td>\n",
              "      <td>NaN</td>\n",
              "      <td>NaN</td>\n",
              "      <td>NaN</td>\n",
              "      <td>NaN</td>\n",
              "      <td>NaN</td>\n",
              "      <td>NaN</td>\n",
              "      <td>NaN</td>\n",
              "      <td>NaN</td>\n",
              "      <td>NaN</td>\n",
              "      <td>NaN</td>\n",
              "      <td>NaN</td>\n",
              "      <td>NaN</td>\n",
              "    </tr>\n",
              "    <tr>\n",
              "      <th>25%</th>\n",
              "      <td>58.000000</td>\n",
              "      <td>NaN</td>\n",
              "      <td>NaN</td>\n",
              "      <td>NaN</td>\n",
              "      <td>0.000000</td>\n",
              "      <td>NaN</td>\n",
              "      <td>NaN</td>\n",
              "      <td>NaN</td>\n",
              "      <td>NaN</td>\n",
              "      <td>NaN</td>\n",
              "      <td>NaN</td>\n",
              "      <td>NaN</td>\n",
              "      <td>NaN</td>\n",
              "      <td>NaN</td>\n",
              "      <td>NaN</td>\n",
              "      <td>NaN</td>\n",
              "      <td>NaN</td>\n",
              "      <td>NaN</td>\n",
              "      <td>NaN</td>\n",
              "      <td>NaN</td>\n",
              "    </tr>\n",
              "    <tr>\n",
              "      <th>50%</th>\n",
              "      <td>67.000000</td>\n",
              "      <td>NaN</td>\n",
              "      <td>NaN</td>\n",
              "      <td>NaN</td>\n",
              "      <td>0.000000</td>\n",
              "      <td>NaN</td>\n",
              "      <td>NaN</td>\n",
              "      <td>NaN</td>\n",
              "      <td>NaN</td>\n",
              "      <td>NaN</td>\n",
              "      <td>NaN</td>\n",
              "      <td>NaN</td>\n",
              "      <td>NaN</td>\n",
              "      <td>NaN</td>\n",
              "      <td>NaN</td>\n",
              "      <td>NaN</td>\n",
              "      <td>NaN</td>\n",
              "      <td>NaN</td>\n",
              "      <td>NaN</td>\n",
              "      <td>NaN</td>\n",
              "    </tr>\n",
              "    <tr>\n",
              "      <th>75%</th>\n",
              "      <td>76.000000</td>\n",
              "      <td>NaN</td>\n",
              "      <td>NaN</td>\n",
              "      <td>NaN</td>\n",
              "      <td>2.000000</td>\n",
              "      <td>NaN</td>\n",
              "      <td>NaN</td>\n",
              "      <td>NaN</td>\n",
              "      <td>NaN</td>\n",
              "      <td>NaN</td>\n",
              "      <td>NaN</td>\n",
              "      <td>NaN</td>\n",
              "      <td>NaN</td>\n",
              "      <td>NaN</td>\n",
              "      <td>NaN</td>\n",
              "      <td>NaN</td>\n",
              "      <td>NaN</td>\n",
              "      <td>NaN</td>\n",
              "      <td>NaN</td>\n",
              "      <td>NaN</td>\n",
              "    </tr>\n",
              "    <tr>\n",
              "      <th>max</th>\n",
              "      <td>103.000000</td>\n",
              "      <td>NaN</td>\n",
              "      <td>NaN</td>\n",
              "      <td>NaN</td>\n",
              "      <td>91.000000</td>\n",
              "      <td>NaN</td>\n",
              "      <td>NaN</td>\n",
              "      <td>NaN</td>\n",
              "      <td>NaN</td>\n",
              "      <td>NaN</td>\n",
              "      <td>NaN</td>\n",
              "      <td>NaN</td>\n",
              "      <td>NaN</td>\n",
              "      <td>NaN</td>\n",
              "      <td>NaN</td>\n",
              "      <td>NaN</td>\n",
              "      <td>NaN</td>\n",
              "      <td>NaN</td>\n",
              "      <td>NaN</td>\n",
              "      <td>NaN</td>\n",
              "    </tr>\n",
              "  </tbody>\n",
              "</table>\n",
              "</div>\n",
              "    <div class=\"colab-df-buttons\">\n",
              "\n",
              "  <div class=\"colab-df-container\">\n",
              "    <button class=\"colab-df-convert\" onclick=\"convertToInteractive('df-99279629-f222-4c4b-b5a7-a6f12a130d48')\"\n",
              "            title=\"Convert this dataframe to an interactive table.\"\n",
              "            style=\"display:none;\">\n",
              "\n",
              "  <svg xmlns=\"http://www.w3.org/2000/svg\" height=\"24px\" viewBox=\"0 -960 960 960\">\n",
              "    <path d=\"M120-120v-720h720v720H120Zm60-500h600v-160H180v160Zm220 220h160v-160H400v160Zm0 220h160v-160H400v160ZM180-400h160v-160H180v160Zm440 0h160v-160H620v160ZM180-180h160v-160H180v160Zm440 0h160v-160H620v160Z\"/>\n",
              "  </svg>\n",
              "    </button>\n",
              "\n",
              "  <style>\n",
              "    .colab-df-container {\n",
              "      display:flex;\n",
              "      gap: 12px;\n",
              "    }\n",
              "\n",
              "    .colab-df-convert {\n",
              "      background-color: #E8F0FE;\n",
              "      border: none;\n",
              "      border-radius: 50%;\n",
              "      cursor: pointer;\n",
              "      display: none;\n",
              "      fill: #1967D2;\n",
              "      height: 32px;\n",
              "      padding: 0 0 0 0;\n",
              "      width: 32px;\n",
              "    }\n",
              "\n",
              "    .colab-df-convert:hover {\n",
              "      background-color: #E2EBFA;\n",
              "      box-shadow: 0px 1px 2px rgba(60, 64, 67, 0.3), 0px 1px 3px 1px rgba(60, 64, 67, 0.15);\n",
              "      fill: #174EA6;\n",
              "    }\n",
              "\n",
              "    .colab-df-buttons div {\n",
              "      margin-bottom: 4px;\n",
              "    }\n",
              "\n",
              "    [theme=dark] .colab-df-convert {\n",
              "      background-color: #3B4455;\n",
              "      fill: #D2E3FC;\n",
              "    }\n",
              "\n",
              "    [theme=dark] .colab-df-convert:hover {\n",
              "      background-color: #434B5C;\n",
              "      box-shadow: 0px 1px 3px 1px rgba(0, 0, 0, 0.15);\n",
              "      filter: drop-shadow(0px 1px 2px rgba(0, 0, 0, 0.3));\n",
              "      fill: #FFFFFF;\n",
              "    }\n",
              "  </style>\n",
              "\n",
              "    <script>\n",
              "      const buttonEl =\n",
              "        document.querySelector('#df-99279629-f222-4c4b-b5a7-a6f12a130d48 button.colab-df-convert');\n",
              "      buttonEl.style.display =\n",
              "        google.colab.kernel.accessAllowed ? 'block' : 'none';\n",
              "\n",
              "      async function convertToInteractive(key) {\n",
              "        const element = document.querySelector('#df-99279629-f222-4c4b-b5a7-a6f12a130d48');\n",
              "        const dataTable =\n",
              "          await google.colab.kernel.invokeFunction('convertToInteractive',\n",
              "                                                    [key], {});\n",
              "        if (!dataTable) return;\n",
              "\n",
              "        const docLinkHtml = 'Like what you see? Visit the ' +\n",
              "          '<a target=\"_blank\" href=https://colab.research.google.com/notebooks/data_table.ipynb>data table notebook</a>'\n",
              "          + ' to learn more about interactive tables.';\n",
              "        element.innerHTML = '';\n",
              "        dataTable['output_type'] = 'display_data';\n",
              "        await google.colab.output.renderOutput(dataTable, element);\n",
              "        const docLink = document.createElement('div');\n",
              "        docLink.innerHTML = docLinkHtml;\n",
              "        element.appendChild(docLink);\n",
              "      }\n",
              "    </script>\n",
              "  </div>\n",
              "\n",
              "\n",
              "<div id=\"df-ef77b11f-3f0f-49a1-9ed0-88bca9e052bd\">\n",
              "  <button class=\"colab-df-quickchart\" onclick=\"quickchart('df-ef77b11f-3f0f-49a1-9ed0-88bca9e052bd')\"\n",
              "            title=\"Suggest charts\"\n",
              "            style=\"display:none;\">\n",
              "\n",
              "<svg xmlns=\"http://www.w3.org/2000/svg\" height=\"24px\"viewBox=\"0 0 24 24\"\n",
              "     width=\"24px\">\n",
              "    <g>\n",
              "        <path d=\"M19 3H5c-1.1 0-2 .9-2 2v14c0 1.1.9 2 2 2h14c1.1 0 2-.9 2-2V5c0-1.1-.9-2-2-2zM9 17H7v-7h2v7zm4 0h-2V7h2v10zm4 0h-2v-4h2v4z\"/>\n",
              "    </g>\n",
              "</svg>\n",
              "  </button>\n",
              "\n",
              "<style>\n",
              "  .colab-df-quickchart {\n",
              "      --bg-color: #E8F0FE;\n",
              "      --fill-color: #1967D2;\n",
              "      --hover-bg-color: #E2EBFA;\n",
              "      --hover-fill-color: #174EA6;\n",
              "      --disabled-fill-color: #AAA;\n",
              "      --disabled-bg-color: #DDD;\n",
              "  }\n",
              "\n",
              "  [theme=dark] .colab-df-quickchart {\n",
              "      --bg-color: #3B4455;\n",
              "      --fill-color: #D2E3FC;\n",
              "      --hover-bg-color: #434B5C;\n",
              "      --hover-fill-color: #FFFFFF;\n",
              "      --disabled-bg-color: #3B4455;\n",
              "      --disabled-fill-color: #666;\n",
              "  }\n",
              "\n",
              "  .colab-df-quickchart {\n",
              "    background-color: var(--bg-color);\n",
              "    border: none;\n",
              "    border-radius: 50%;\n",
              "    cursor: pointer;\n",
              "    display: none;\n",
              "    fill: var(--fill-color);\n",
              "    height: 32px;\n",
              "    padding: 0;\n",
              "    width: 32px;\n",
              "  }\n",
              "\n",
              "  .colab-df-quickchart:hover {\n",
              "    background-color: var(--hover-bg-color);\n",
              "    box-shadow: 0 1px 2px rgba(60, 64, 67, 0.3), 0 1px 3px 1px rgba(60, 64, 67, 0.15);\n",
              "    fill: var(--button-hover-fill-color);\n",
              "  }\n",
              "\n",
              "  .colab-df-quickchart-complete:disabled,\n",
              "  .colab-df-quickchart-complete:disabled:hover {\n",
              "    background-color: var(--disabled-bg-color);\n",
              "    fill: var(--disabled-fill-color);\n",
              "    box-shadow: none;\n",
              "  }\n",
              "\n",
              "  .colab-df-spinner {\n",
              "    border: 2px solid var(--fill-color);\n",
              "    border-color: transparent;\n",
              "    border-bottom-color: var(--fill-color);\n",
              "    animation:\n",
              "      spin 1s steps(1) infinite;\n",
              "  }\n",
              "\n",
              "  @keyframes spin {\n",
              "    0% {\n",
              "      border-color: transparent;\n",
              "      border-bottom-color: var(--fill-color);\n",
              "      border-left-color: var(--fill-color);\n",
              "    }\n",
              "    20% {\n",
              "      border-color: transparent;\n",
              "      border-left-color: var(--fill-color);\n",
              "      border-top-color: var(--fill-color);\n",
              "    }\n",
              "    30% {\n",
              "      border-color: transparent;\n",
              "      border-left-color: var(--fill-color);\n",
              "      border-top-color: var(--fill-color);\n",
              "      border-right-color: var(--fill-color);\n",
              "    }\n",
              "    40% {\n",
              "      border-color: transparent;\n",
              "      border-right-color: var(--fill-color);\n",
              "      border-top-color: var(--fill-color);\n",
              "    }\n",
              "    60% {\n",
              "      border-color: transparent;\n",
              "      border-right-color: var(--fill-color);\n",
              "    }\n",
              "    80% {\n",
              "      border-color: transparent;\n",
              "      border-right-color: var(--fill-color);\n",
              "      border-bottom-color: var(--fill-color);\n",
              "    }\n",
              "    90% {\n",
              "      border-color: transparent;\n",
              "      border-bottom-color: var(--fill-color);\n",
              "    }\n",
              "  }\n",
              "</style>\n",
              "\n",
              "  <script>\n",
              "    async function quickchart(key) {\n",
              "      const quickchartButtonEl =\n",
              "        document.querySelector('#' + key + ' button');\n",
              "      quickchartButtonEl.disabled = true;  // To prevent multiple clicks.\n",
              "      quickchartButtonEl.classList.add('colab-df-spinner');\n",
              "      try {\n",
              "        const charts = await google.colab.kernel.invokeFunction(\n",
              "            'suggestCharts', [key], {});\n",
              "      } catch (error) {\n",
              "        console.error('Error during call to suggestCharts:', error);\n",
              "      }\n",
              "      quickchartButtonEl.classList.remove('colab-df-spinner');\n",
              "      quickchartButtonEl.classList.add('colab-df-quickchart-complete');\n",
              "    }\n",
              "    (() => {\n",
              "      let quickchartButtonEl =\n",
              "        document.querySelector('#df-ef77b11f-3f0f-49a1-9ed0-88bca9e052bd button');\n",
              "      quickchartButtonEl.style.display =\n",
              "        google.colab.kernel.accessAllowed ? 'block' : 'none';\n",
              "    })();\n",
              "  </script>\n",
              "</div>\n",
              "\n",
              "    </div>\n",
              "  </div>\n"
            ],
            "application/vnd.google.colaboratory.intrinsic+json": {
              "type": "dataframe",
              "summary": "{\n  \"name\": \"df\",\n  \"rows\": 11,\n  \"fields\": [\n    {\n      \"column\": \"AGE_YRS\",\n      \"properties\": {\n        \"dtype\": \"number\",\n        \"std\": 3896.123377098011,\n        \"min\": 13.287135108901843,\n        \"max\": 11077.0,\n        \"num_unique_values\": 8,\n        \"samples\": [\n          66.62020402636092,\n          67.0,\n          11077.0\n        ],\n        \"semantic_type\": \"\",\n        \"description\": \"\"\n      }\n    },\n    {\n      \"column\": \"SEX\",\n      \"properties\": {\n        \"dtype\": \"category\",\n        \"num_unique_values\": 4,\n        \"samples\": [\n          2,\n          \"6242\",\n          \"11077\"\n        ],\n        \"semantic_type\": \"\",\n        \"description\": \"\"\n      }\n    },\n    {\n      \"column\": \"L_THREAT\",\n      \"properties\": {\n        \"dtype\": \"category\",\n        \"num_unique_values\": 4,\n        \"samples\": [\n          2,\n          \"10751\",\n          \"11077\"\n        ],\n        \"semantic_type\": \"\",\n        \"description\": \"\"\n      }\n    },\n    {\n      \"column\": \"HOSPITAL\",\n      \"properties\": {\n        \"dtype\": \"category\",\n        \"num_unique_values\": 4,\n        \"samples\": [\n          2,\n          \"6917\",\n          \"11077\"\n        ],\n        \"semantic_type\": \"\",\n        \"description\": \"\"\n      }\n    },\n    {\n      \"column\": \"HOSPDAYS\",\n      \"properties\": {\n        \"dtype\": \"number\",\n        \"std\": 3911.384904907077,\n        \"min\": 0.0,\n        \"max\": 11077.0,\n        \"num_unique_values\": 6,\n        \"samples\": [\n          11077.0,\n          1.9966597454184345,\n          91.0\n        ],\n        \"semantic_type\": \"\",\n        \"description\": \"\"\n      }\n    },\n    {\n      \"column\": \"X_STAY\",\n      \"properties\": {\n        \"dtype\": \"category\",\n        \"num_unique_values\": 4,\n        \"samples\": [\n          2,\n          \"11066\",\n          \"11077\"\n        ],\n        \"semantic_type\": \"\",\n        \"description\": \"\"\n      }\n    },\n    {\n      \"column\": \"DISABLE\",\n      \"properties\": {\n        \"dtype\": \"category\",\n        \"num_unique_values\": 4,\n        \"samples\": [\n          2,\n          \"10764\",\n          \"11077\"\n        ],\n        \"semantic_type\": \"\",\n        \"description\": \"\"\n      }\n    },\n    {\n      \"column\": \"RECOVD\",\n      \"properties\": {\n        \"dtype\": \"category\",\n        \"num_unique_values\": 4,\n        \"samples\": [\n          3,\n          \"4493\",\n          \"11077\"\n        ],\n        \"semantic_type\": \"\",\n        \"description\": \"\"\n      }\n    },\n    {\n      \"column\": \"CUR_ILL\",\n      \"properties\": {\n        \"dtype\": \"category\",\n        \"num_unique_values\": 4,\n        \"samples\": [\n          2,\n          \"9235\",\n          \"11077\"\n        ],\n        \"semantic_type\": \"\",\n        \"description\": \"\"\n      }\n    },\n    {\n      \"column\": \"HBP\",\n      \"properties\": {\n        \"dtype\": \"category\",\n        \"num_unique_values\": 4,\n        \"samples\": [\n          2,\n          \"11040\",\n          \"11077\"\n        ],\n        \"semantic_type\": \"\",\n        \"description\": \"\"\n      }\n    },\n    {\n      \"column\": \"DIABETES\",\n      \"properties\": {\n        \"dtype\": \"category\",\n        \"num_unique_values\": 4,\n        \"samples\": [\n          2,\n          \"6958\",\n          \"11077\"\n        ],\n        \"semantic_type\": \"\",\n        \"description\": \"\"\n      }\n    },\n    {\n      \"column\": \"H_CHOL\",\n      \"properties\": {\n        \"dtype\": \"category\",\n        \"num_unique_values\": 4,\n        \"samples\": [\n          2,\n          \"6947\",\n          \"11077\"\n        ],\n        \"semantic_type\": \"\",\n        \"description\": \"\"\n      }\n    },\n    {\n      \"column\": \"OTHER_ILLN\",\n      \"properties\": {\n        \"dtype\": \"category\",\n        \"num_unique_values\": 4,\n        \"samples\": [\n          2,\n          \"9142\",\n          \"11077\"\n        ],\n        \"semantic_type\": \"\",\n        \"description\": \"\"\n      }\n    },\n    {\n      \"column\": \"PRIOR_VAX\",\n      \"properties\": {\n        \"dtype\": \"category\",\n        \"num_unique_values\": 4,\n        \"samples\": [\n          2,\n          \"10561\",\n          \"11077\"\n        ],\n        \"semantic_type\": \"\",\n        \"description\": \"\"\n      }\n    },\n    {\n      \"column\": \"BIRTH_DEFECT\",\n      \"properties\": {\n        \"dtype\": \"category\",\n        \"num_unique_values\": 4,\n        \"samples\": [\n          2,\n          \"11071\",\n          \"11077\"\n        ],\n        \"semantic_type\": \"\",\n        \"description\": \"\"\n      }\n    },\n    {\n      \"column\": \"OFC_VISIT\",\n      \"properties\": {\n        \"dtype\": \"category\",\n        \"num_unique_values\": 4,\n        \"samples\": [\n          2,\n          \"8207\",\n          \"11077\"\n        ],\n        \"semantic_type\": \"\",\n        \"description\": \"\"\n      }\n    },\n    {\n      \"column\": \"ER_ED_VISIT\",\n      \"properties\": {\n        \"dtype\": \"category\",\n        \"num_unique_values\": 4,\n        \"samples\": [\n          2,\n          \"8585\",\n          \"11077\"\n        ],\n        \"semantic_type\": \"\",\n        \"description\": \"\"\n      }\n    },\n    {\n      \"column\": \"DOSE_COMPLETE\",\n      \"properties\": {\n        \"dtype\": \"category\",\n        \"num_unique_values\": 4,\n        \"samples\": [\n          2,\n          \"5760\",\n          \"11077\"\n        ],\n        \"semantic_type\": \"\",\n        \"description\": \"\"\n      }\n    },\n    {\n      \"column\": \"VAX_NAME\",\n      \"properties\": {\n        \"dtype\": \"category\",\n        \"num_unique_values\": 4,\n        \"samples\": [\n          6,\n          \"5141\",\n          \"11077\"\n        ],\n        \"semantic_type\": \"\",\n        \"description\": \"\"\n      }\n    },\n    {\n      \"column\": \"DIED\",\n      \"properties\": {\n        \"dtype\": \"category\",\n        \"num_unique_values\": 4,\n        \"samples\": [\n          2,\n          \"10042\",\n          \"11077\"\n        ],\n        \"semantic_type\": \"\",\n        \"description\": \"\"\n      }\n    }\n  ]\n}"
            }
          },
          "metadata": {},
          "execution_count": 8
        }
      ]
    },
    {
      "cell_type": "code",
      "source": [
        "# check for missing values\n",
        "\n",
        "df.isnull().sum()\n"
      ],
      "metadata": {
        "colab": {
          "base_uri": "https://localhost:8080/",
          "height": 711
        },
        "id": "pQ8D5_tu6CVG",
        "outputId": "aef3032c-7787-42a4-cb70-b9fddcd6664a"
      },
      "execution_count": null,
      "outputs": [
        {
          "output_type": "execute_result",
          "data": {
            "text/plain": [
              "AGE_YRS          0\n",
              "SEX              0\n",
              "L_THREAT         0\n",
              "HOSPITAL         0\n",
              "HOSPDAYS         0\n",
              "X_STAY           0\n",
              "DISABLE          0\n",
              "RECOVD           0\n",
              "CUR_ILL          0\n",
              "HBP              0\n",
              "DIABETES         0\n",
              "H_CHOL           0\n",
              "OTHER_ILLN       0\n",
              "PRIOR_VAX        0\n",
              "BIRTH_DEFECT     0\n",
              "OFC_VISIT        0\n",
              "ER_ED_VISIT      0\n",
              "DOSE_COMPLETE    0\n",
              "VAX_NAME         0\n",
              "DIED             0\n",
              "dtype: int64"
            ],
            "text/html": [
              "<div>\n",
              "<style scoped>\n",
              "    .dataframe tbody tr th:only-of-type {\n",
              "        vertical-align: middle;\n",
              "    }\n",
              "\n",
              "    .dataframe tbody tr th {\n",
              "        vertical-align: top;\n",
              "    }\n",
              "\n",
              "    .dataframe thead th {\n",
              "        text-align: right;\n",
              "    }\n",
              "</style>\n",
              "<table border=\"1\" class=\"dataframe\">\n",
              "  <thead>\n",
              "    <tr style=\"text-align: right;\">\n",
              "      <th></th>\n",
              "      <th>0</th>\n",
              "    </tr>\n",
              "  </thead>\n",
              "  <tbody>\n",
              "    <tr>\n",
              "      <th>AGE_YRS</th>\n",
              "      <td>0</td>\n",
              "    </tr>\n",
              "    <tr>\n",
              "      <th>SEX</th>\n",
              "      <td>0</td>\n",
              "    </tr>\n",
              "    <tr>\n",
              "      <th>L_THREAT</th>\n",
              "      <td>0</td>\n",
              "    </tr>\n",
              "    <tr>\n",
              "      <th>HOSPITAL</th>\n",
              "      <td>0</td>\n",
              "    </tr>\n",
              "    <tr>\n",
              "      <th>HOSPDAYS</th>\n",
              "      <td>0</td>\n",
              "    </tr>\n",
              "    <tr>\n",
              "      <th>X_STAY</th>\n",
              "      <td>0</td>\n",
              "    </tr>\n",
              "    <tr>\n",
              "      <th>DISABLE</th>\n",
              "      <td>0</td>\n",
              "    </tr>\n",
              "    <tr>\n",
              "      <th>RECOVD</th>\n",
              "      <td>0</td>\n",
              "    </tr>\n",
              "    <tr>\n",
              "      <th>CUR_ILL</th>\n",
              "      <td>0</td>\n",
              "    </tr>\n",
              "    <tr>\n",
              "      <th>HBP</th>\n",
              "      <td>0</td>\n",
              "    </tr>\n",
              "    <tr>\n",
              "      <th>DIABETES</th>\n",
              "      <td>0</td>\n",
              "    </tr>\n",
              "    <tr>\n",
              "      <th>H_CHOL</th>\n",
              "      <td>0</td>\n",
              "    </tr>\n",
              "    <tr>\n",
              "      <th>OTHER_ILLN</th>\n",
              "      <td>0</td>\n",
              "    </tr>\n",
              "    <tr>\n",
              "      <th>PRIOR_VAX</th>\n",
              "      <td>0</td>\n",
              "    </tr>\n",
              "    <tr>\n",
              "      <th>BIRTH_DEFECT</th>\n",
              "      <td>0</td>\n",
              "    </tr>\n",
              "    <tr>\n",
              "      <th>OFC_VISIT</th>\n",
              "      <td>0</td>\n",
              "    </tr>\n",
              "    <tr>\n",
              "      <th>ER_ED_VISIT</th>\n",
              "      <td>0</td>\n",
              "    </tr>\n",
              "    <tr>\n",
              "      <th>DOSE_COMPLETE</th>\n",
              "      <td>0</td>\n",
              "    </tr>\n",
              "    <tr>\n",
              "      <th>VAX_NAME</th>\n",
              "      <td>0</td>\n",
              "    </tr>\n",
              "    <tr>\n",
              "      <th>DIED</th>\n",
              "      <td>0</td>\n",
              "    </tr>\n",
              "  </tbody>\n",
              "</table>\n",
              "</div><br><label><b>dtype:</b> int64</label>"
            ]
          },
          "metadata": {},
          "execution_count": 9
        }
      ]
    },
    {
      "cell_type": "markdown",
      "source": [
        "Data Transformation\n",
        "\n",
        "*   Scaling for Numerical Data\n",
        "*   Encoding for Categorical Data"
      ],
      "metadata": {
        "id": "RhlcB6ZD7gK8"
      }
    },
    {
      "cell_type": "code",
      "source": [
        "'''# Numerical data scaling\n",
        "from sklearn.preprocessing import MinMaxScaler\n",
        "\n",
        "# initialising the MinMaxScaler\n",
        "scaler = MinMaxScaler(feature_range=(0, 1))\n",
        "\n",
        "# Numerical columns\n",
        "num_col_ = [col for col in df.columns if df[col].dtype != 'object']\n",
        "\n",
        "# learning the statistical parameters for each of the data and transforming\n",
        "df[num_col_] = scaler.fit_transform(df[num_col_])\n",
        "df.head()'''"
      ],
      "metadata": {
        "colab": {
          "base_uri": "https://localhost:8080/",
          "height": 52
        },
        "id": "6_ZEuLcI7oxn",
        "outputId": "aca297c9-9577-4aa6-d985-c514e073a1bc"
      },
      "execution_count": null,
      "outputs": [
        {
          "output_type": "execute_result",
          "data": {
            "text/plain": [
              "\"# Numerical data scaling\\nfrom sklearn.preprocessing import MinMaxScaler\\n\\n# initialising the MinMaxScaler\\nscaler = MinMaxScaler(feature_range=(0, 1))\\n\\n# Numerical columns\\nnum_col_ = [col for col in df.columns if df[col].dtype != 'object']\\n\\n# learning the statistical parameters for each of the data and transforming\\ndf[num_col_] = scaler.fit_transform(df[num_col_])\\ndf.head()\""
            ],
            "application/vnd.google.colaboratory.intrinsic+json": {
              "type": "string"
            }
          },
          "metadata": {},
          "execution_count": 17
        }
      ]
    },
    {
      "cell_type": "code",
      "source": [],
      "metadata": {
        "id": "6rdgOa2987VN"
      },
      "execution_count": null,
      "outputs": []
    },
    {
      "cell_type": "code",
      "source": [
        "'''Categorical data encoding\n",
        "#one hot encoding using OneHotEncoder of Scikit-Learn\n",
        "from sklearn.preprocessing import OneHotEncoder\n",
        "\n",
        "#Here we extract the columns with object datatype as they are the categorical columns\n",
        "cat_col = [col for col in df.columns if df[col].dtype == 'object']\n",
        "\n",
        "#Initialize OneHotEncoder\n",
        "encoder = OneHotEncoder(sparse_output=False)\n",
        "\n",
        "# Apply one-hot encoding to the categorical columns\n",
        "one_hot_encoded = encoder.fit_transform(df[cat_col])\n",
        "\n",
        "#Create a DataFrame with the one-hot encoded columns\n",
        "#We use get_feature_names_out() to get the column names for the encoded data\n",
        "one_hot_df = pd.DataFrame(one_hot_encoded, columns=encoder.get_feature_names_out(cat_col))\n",
        "\n",
        "# Concatenate the one-hot encoded dataframe with the original dataframe\n",
        "df_encoded = pd.concat([df, one_hot_df], axis=1)\n",
        "\n",
        "# Drop the original categorical columns\n",
        "df_encoded = df_encoded.drop(cat_col, axis=1)\n",
        "print(df_encoded.head())'''\n"
      ],
      "metadata": {
        "colab": {
          "base_uri": "https://localhost:8080/",
          "height": 87
        },
        "id": "Goy6RGZh8HHE",
        "outputId": "7d51b47a-eac4-4abd-a024-81e976d5847b"
      },
      "execution_count": null,
      "outputs": [
        {
          "output_type": "execute_result",
          "data": {
            "text/plain": [
              "\"Categorical data encoding\\n#one hot encoding using OneHotEncoder of Scikit-Learn\\nfrom sklearn.preprocessing import OneHotEncoder\\n\\n#Here we extract the columns with object datatype as they are the categorical columns\\ncat_col = [col for col in df.columns if df[col].dtype == 'object']\\n\\n#Initialize OneHotEncoder\\nencoder = OneHotEncoder(sparse_output=False)\\n\\n# Apply one-hot encoding to the categorical columns\\none_hot_encoded = encoder.fit_transform(df[cat_col])\\n\\n#Create a DataFrame with the one-hot encoded columns\\n#We use get_feature_names_out() to get the column names for the encoded data\\none_hot_df = pd.DataFrame(one_hot_encoded, columns=encoder.get_feature_names_out(cat_col))\\n\\n# Concatenate the one-hot encoded dataframe with the original dataframe\\ndf_encoded = pd.concat([df, one_hot_df], axis=1)\\n\\n# Drop the original categorical columns\\ndf_encoded = df_encoded.drop(cat_col, axis=1)\\nprint(df_encoded.head())\""
            ],
            "application/vnd.google.colaboratory.intrinsic+json": {
              "type": "string"
            }
          },
          "metadata": {},
          "execution_count": 8
        }
      ]
    },
    {
      "cell_type": "markdown",
      "source": [
        "Handling Class Imbalance"
      ],
      "metadata": {
        "id": "pbfbmT5V9XPd"
      }
    },
    {
      "cell_type": "code",
      "source": [
        "#Our Target variable (Class) is \"DIED\". Let's count the number of Y (Yes) and N (No) to check the class imbalance\n",
        "df['DIED'].value_counts()"
      ],
      "metadata": {
        "colab": {
          "base_uri": "https://localhost:8080/",
          "height": 178
        },
        "id": "27UMDk3R8-IG",
        "outputId": "bf306225-88fe-4c43-9a0b-fd16757bc573"
      },
      "execution_count": null,
      "outputs": [
        {
          "output_type": "execute_result",
          "data": {
            "text/plain": [
              "DIED\n",
              "N    10042\n",
              "Y     1035\n",
              "Name: count, dtype: int64"
            ],
            "text/html": [
              "<div>\n",
              "<style scoped>\n",
              "    .dataframe tbody tr th:only-of-type {\n",
              "        vertical-align: middle;\n",
              "    }\n",
              "\n",
              "    .dataframe tbody tr th {\n",
              "        vertical-align: top;\n",
              "    }\n",
              "\n",
              "    .dataframe thead th {\n",
              "        text-align: right;\n",
              "    }\n",
              "</style>\n",
              "<table border=\"1\" class=\"dataframe\">\n",
              "  <thead>\n",
              "    <tr style=\"text-align: right;\">\n",
              "      <th></th>\n",
              "      <th>count</th>\n",
              "    </tr>\n",
              "    <tr>\n",
              "      <th>DIED</th>\n",
              "      <th></th>\n",
              "    </tr>\n",
              "  </thead>\n",
              "  <tbody>\n",
              "    <tr>\n",
              "      <th>N</th>\n",
              "      <td>10042</td>\n",
              "    </tr>\n",
              "    <tr>\n",
              "      <th>Y</th>\n",
              "      <td>1035</td>\n",
              "    </tr>\n",
              "  </tbody>\n",
              "</table>\n",
              "</div><br><label><b>dtype:</b> int64</label>"
            ]
          },
          "metadata": {},
          "execution_count": 10
        }
      ]
    },
    {
      "cell_type": "markdown",
      "source": [
        "From the result above, the dataset has a skewed class proportion, we need to apply class imbalance techniques to balance the dataset"
      ],
      "metadata": {
        "id": "f1USP7r79fho"
      }
    },
    {
      "cell_type": "code",
      "source": [
        "# plot a bar chart for the target variable\n",
        "\n",
        "import matplotlib.pyplot as plt\n",
        "fig, ax = plt.subplots()\n",
        "\n",
        "df['DIED'].value_counts().plot(kind='bar', color=['skyblue', 'salmon'])\n",
        "plt.xlabel(\"DIED\")\n",
        "plt.ylabel(\"Count\")\n",
        "plt.title(\"Distribution of CLASS\")\n",
        "plt.show()\n"
      ],
      "metadata": {
        "colab": {
          "base_uri": "https://localhost:8080/",
          "height": 468
        },
        "id": "nzP3hvzG_uqN",
        "outputId": "7a142a9f-525c-4c59-a371-a1868689baf4"
      },
      "execution_count": null,
      "outputs": [
        {
          "output_type": "display_data",
          "data": {
            "text/plain": [
              "<Figure size 640x480 with 1 Axes>"
            ],
            "image/png": "[encoded data removed]"
          },
          "metadata": {}
        }
      ]
    },
    {
      "cell_type": "markdown",
      "source": [
        "Random Over Sampling Technique"
      ],
      "metadata": {
        "id": "1QwpzZa56Sl3"
      }
    },
    {
      "cell_type": "code",
      "source": [
        "import imblearn\n",
        "import pandas as pd\n",
        "from sklearn.preprocessing import OneHotEncoder\n",
        "from imblearn.over_sampling import RandomOverSampler\n",
        "from collections import Counter\n",
        "\n",
        "# Sample DataFrame with categorical and numerical features (replace with your data)\n",
        "#data = ['AGE_YRS','SEX', 'L_THREAT', 'HOSPITAL', 'HOSPDAYS', 'X_STAY', 'DISABLE', 'RECOVD', 'CUR_ILL', 'HBP', 'DIABETES', 'H_CHOL', 'OTHER_ILLN', 'PRIOR_VAX', 'BIRTH_DEFECT', 'OFC_VISIT', 'ER_ED_VISIT', 'DOSE_COMPLETE', 'VAX_NAME', 'DIED'],\n",
        "\n",
        "#df = pd.DataFrame(data)\n",
        "#print(df.head())\n",
        "\n",
        "# Separate features and target variable\n",
        "X = df.drop('DIED', axis=1)\n",
        "y = df['DIED']\n",
        "\n",
        "# Identify categorical and numerical features\n",
        "categorical_features = X.select_dtypes(include=['object']).columns\n",
        "numerical_features = X.select_dtypes(exclude=['object']).columns\n",
        "\n",
        "# Numerical data scaling\n",
        "from sklearn.preprocessing import MinMaxScaler\n",
        "\n",
        "# initialising the MinMaxScaler\n",
        "scaler = MinMaxScaler(feature_range=(0, 1))\n",
        "\n",
        "\n",
        "# learning the statistical parameters for each of the data and transforming\n",
        "df[numerical_features] = scaler.fit_transform(df[numerical_features])\n",
        "\n",
        "# One-hot encode categorical features\n",
        "ohe = OneHotEncoder(handle_unknown='ignore', sparse_output=False)\n",
        "X_encoded = ohe.fit_transform(X[categorical_features])\n",
        "encoded_feature_names = ohe.get_feature_names_out(categorical_features)\n",
        "X_encoded_df = pd.DataFrame(X_encoded, columns=encoded_feature_names)\n",
        "\n",
        "# Combine numerical and encoded categorical features\n",
        "#X_final = pd.concat([X[numerical_features], X_encoded_df], axis=1)\n",
        "\n",
        "X_final = pd.concat([df[num_col], X_encoded_df], axis=1)\n",
        "#encoder = OneHotEncoder(sparse_output=False)\n",
        "\n",
        "#y_transformed = encoder.fit_transform(df[['DIED']])\n",
        "y_transformed = ohe.fit_transform(df[['DIED']])\n",
        "\n",
        "\n",
        "# Instantiate RandomOverSampler\n",
        "ros = RandomOverSampler(random_state=42)\n",
        "\n",
        "# Perform oversampling\n",
        "X_resampled, y_resampled = ros.fit_resample(X_final, y_transformed)\n",
        "\n",
        "# Print class distribution before and after oversampling\n",
        "print('Original dataset shape:', Counter(y))\n",
        "print('Resampled dataset shape:', Counter(y_resampled.flatten()))\n",
        "#print('Resampled dataset shape:', Counter(y_resampled))\n",
        "#print('Resampled dataset shape:', Counter(y_resampled.flatten().tolist()))\n",
        "\n",
        "print()\n",
        "# Create a new DataFrame with the resampled data\n",
        "df_resampled = pd.DataFrame(X_resampled, columns=X_final.columns)\n",
        "df_resampled['DIED'] = y_resampled\n",
        "\n",
        "print(df_resampled.head())"
      ],
      "metadata": {
        "colab": {
          "base_uri": "https://localhost:8080/"
        },
        "id": "WDJDErDujW_C",
        "outputId": "98c2e8ce-98cb-4c8f-fd2a-b31cd671720a"
      },
      "execution_count": null,
      "outputs": [
        {
          "output_type": "stream",
          "name": "stdout",
          "text": [
            "Original dataset shape: Counter({'N': 10042, 'Y': 1035})\n",
            "Resampled dataset shape: Counter({0: 10042, 1: 10042})\n",
            "\n",
            "    AGE_YRS  HOSPDAYS  SEX_F  SEX_M  L_THREAT_N  L_THREAT_Y  HOSPITAL_N  \\\n",
            "0  0.282353       0.0    1.0    0.0         1.0         0.0         1.0   \n",
            "1  0.623529       0.0    1.0    0.0         1.0         0.0         1.0   \n",
            "2  0.305882       0.0    0.0    1.0         1.0         0.0         1.0   \n",
            "3  0.305882       0.0    0.0    1.0         1.0         0.0         1.0   \n",
            "4  0.364706       0.0    1.0    0.0         1.0         0.0         1.0   \n",
            "\n",
            "   HOSPITAL_Y  X_STAY_N  X_STAY_Y  ...  ER_ED_VISIT_Y  DOSE_COMPLETE_N  \\\n",
            "0         0.0       1.0       0.0  ...            1.0              1.0   \n",
            "1         0.0       1.0       0.0  ...            0.0              1.0   \n",
            "2         0.0       1.0       0.0  ...            0.0              1.0   \n",
            "3         0.0       1.0       0.0  ...            0.0              1.0   \n",
            "4         0.0       1.0       0.0  ...            1.0              1.0   \n",
            "\n",
            "   DOSE_COMPLETE_Y  VAX_NAME_A  VAX_NAME_B  VAX_NAME_C  VAX_NAME_D  \\\n",
            "0              0.0         0.0         0.0         0.0         0.0   \n",
            "1              0.0         0.0         0.0         0.0         0.0   \n",
            "2              0.0         0.0         0.0         0.0         0.0   \n",
            "3              0.0         0.0         0.0         0.0         0.0   \n",
            "4              0.0         0.0         0.0         0.0         0.0   \n",
            "\n",
            "   VAX_NAME_E  VAX_NAME_F  DIED  \n",
            "0         1.0         0.0     0  \n",
            "1         1.0         0.0     0  \n",
            "2         1.0         0.0     0  \n",
            "3         1.0         0.0     0  \n",
            "4         1.0         0.0     0  \n",
            "\n",
            "[5 rows x 42 columns]\n"
          ]
        }
      ]
    },
    {
      "cell_type": "markdown",
      "source": [
        "SMOTE"
      ],
      "metadata": {
        "id": "-AUmRRzVNYLr"
      }
    },
    {
      "cell_type": "code",
      "source": [
        "# Resample data using SMOTE\n",
        "\n",
        "from imblearn.over_sampling import SMOTE\n",
        "\n",
        "# Instantiate SMOTE\n",
        "smote = SMOTE(random_state=42)\n",
        "\n",
        "# Perform oversampling\n",
        "X_resampled_smote, y_resampled_smote = smote.fit_resample(X_final, y_transformed)\n",
        "\n",
        "# Print class distribution before and after oversampling\n",
        "print('Original dataset shape:', Counter(y))\n",
        "print('Resampled dataset shape:', Counter(y_resampled_smote.flatten()))\n",
        "\n",
        "print()\n",
        "# Create a new DataFrame with the resampled data\n",
        "df_resampled_smote = pd.DataFrame(X_resampled_smote, columns=X_final.columns)\n",
        "df_resampled_smote['DIED'] = y_resampled_smote\n",
        "\n",
        "print(df_resampled_smote.head())\n"
      ],
      "metadata": {
        "colab": {
          "base_uri": "https://localhost:8080/"
        },
        "id": "7g5LMZugNaYQ",
        "outputId": "b5c9061b-9e6c-4340-d37c-bc86cc8e98e7"
      },
      "execution_count": null,
      "outputs": [
        {
          "output_type": "stream",
          "name": "stdout",
          "text": [
            "Original dataset shape: Counter({'N': 10042, 'Y': 1035})\n",
            "Resampled dataset shape: Counter({0: 10042, 1: 10042})\n",
            "\n",
            "    AGE_YRS  HOSPDAYS  SEX_F  SEX_M  L_THREAT_N  L_THREAT_Y  HOSPITAL_N  \\\n",
            "0  0.282353       0.0    1.0    0.0         1.0         0.0         1.0   \n",
            "1  0.623529       0.0    1.0    0.0         1.0         0.0         1.0   \n",
            "2  0.305882       0.0    0.0    1.0         1.0         0.0         1.0   \n",
            "3  0.305882       0.0    0.0    1.0         1.0         0.0         1.0   \n",
            "4  0.364706       0.0    1.0    0.0         1.0         0.0         1.0   \n",
            "\n",
            "   HOSPITAL_Y  X_STAY_N  X_STAY_Y  ...  ER_ED_VISIT_Y  DOSE_COMPLETE_N  \\\n",
            "0         0.0       1.0       0.0  ...            1.0              1.0   \n",
            "1         0.0       1.0       0.0  ...            0.0              1.0   \n",
            "2         0.0       1.0       0.0  ...            0.0              1.0   \n",
            "3         0.0       1.0       0.0  ...            0.0              1.0   \n",
            "4         0.0       1.0       0.0  ...            1.0              1.0   \n",
            "\n",
            "   DOSE_COMPLETE_Y  VAX_NAME_A  VAX_NAME_B  VAX_NAME_C  VAX_NAME_D  \\\n",
            "0              0.0         0.0         0.0         0.0         0.0   \n",
            "1              0.0         0.0         0.0         0.0         0.0   \n",
            "2              0.0         0.0         0.0         0.0         0.0   \n",
            "3              0.0         0.0         0.0         0.0         0.0   \n",
            "4              0.0         0.0         0.0         0.0         0.0   \n",
            "\n",
            "   VAX_NAME_E  VAX_NAME_F  DIED  \n",
            "0         1.0         0.0     0  \n",
            "1         1.0         0.0     0  \n",
            "2         1.0         0.0     0  \n",
            "3         1.0         0.0     0  \n",
            "4         1.0         0.0     0  \n",
            "\n",
            "[5 rows x 42 columns]\n"
          ]
        }
      ]
    },
    {
      "cell_type": "code",
      "source": [
        "# Compare the performance of random over sampling with SMOTE using AUC-ROC and Avearge Precision\n",
        "\n",
        "from sklearn.metrics import roc_auc_score, average_precision_score\n",
        "from sklearn.model_selection import train_test_split # Import train_test_split\n",
        "from sklearn.linear_model import LogisticRegression # Import a model for demonstration\n",
        "\n",
        "# --- Random Oversampling ---\n",
        "# Split the resampled data into train and test sets\n",
        "X_train_ros, X_test_ros, y_train_ros, y_test_ros = train_test_split(\n",
        "    X_resampled, y_resampled, test_size=0.2, random_state=42\n",
        ")\n",
        "\n",
        "# Train a model (example using Logistic Regression)\n",
        "model_ros = LogisticRegression(max_iter=1000)\n",
        "model_ros.fit(X_train_ros, y_train_ros.ravel()) # Flatten y_train_ros\n",
        "\n",
        "# Predict probabilities for positive class on test set\n",
        "y_pred_ros = model_ros.predict_proba(X_test_ros)[:, 1]\n",
        "\n",
        "# Calculate AUC-ROC\n",
        "auc_roc_ros = roc_auc_score(y_test_ros, y_pred_ros)\n",
        "print(\"AUC-ROC for Random Oversampling:\", auc_roc_ros)\n",
        "\n",
        "# Calculate Average Precision\n",
        "avg_precision_ros = average_precision_score(y_test_ros, y_pred_ros)\n",
        "print(\"Average Precision for Random Oversampling:\", avg_precision_ros)\n",
        "\n",
        "# --- SMOTE ---\n",
        "# Split the SMOTE resampled data into train and test sets\n",
        "X_train_smote, X_test_smote, y_train_smote, y_test_smote = train_test_split(\n",
        "    X_resampled_smote, y_resampled_smote, test_size=0.2, random_state=42\n",
        ")\n",
        "\n",
        "# Train a model (example using Logistic Regression)\n",
        "model_smote = LogisticRegression(max_iter=1000)\n",
        "model_smote.fit(X_train_smote, y_train_smote.ravel()) # Flatten y_train_smote\n",
        "\n",
        "# Predict probabilities for positive class on test set\n",
        "y_pred_smote = model_smote.predict_proba(X_test_smote)[:, 1]\n",
        "\n",
        "# Calculate AUC-ROC\n",
        "auc_roc_smote = roc_auc_score(y_test_smote, y_pred_smote)\n",
        "print(\"AUC-ROC for SMOTE:\", auc_roc_smote)\n",
        "\n",
        "# Calculate Average Precision\n",
        "avg_precision_smote = average_precision_score(y_test_smote, y_pred_smote)\n",
        "print(\"Average Precision for SMOTE:\", avg_precision_smote)\n",
        "\n",
        "# --- Comparison ---\n",
        "print(\"\\nComparison:\")\n",
        "if auc_roc_ros > auc_roc_smote:\n",
        "    print(\"Random Oversampling performs better in terms of AUC-ROC.\")\n",
        "elif auc_roc_smote > auc_roc_ros:\n",
        "    print(\"SMOTE performs better in terms of AUC-ROC.\")\n",
        "else:\n",
        "    print(\"Both methods have similar performance in terms of AUC-ROC.\")\n",
        "\n",
        "if avg_precision_ros > avg_precision_smote:\n",
        "    print(\"Random Oversampling performs better in terms of Average Precision.\")\n",
        "elif avg_precision_smote > avg_precision_ros:\n",
        "    print(\"SMOTE performs better in terms of Average Precision.\")\n",
        "else:\n",
        "    print(\"Both methods have similar performance in terms of Average Precision.\")\n"
      ],
      "metadata": {
        "colab": {
          "base_uri": "https://localhost:8080/"
        },
        "id": "sVFLuqACfYpO",
        "outputId": "5de5aaf4-6db0-4cb9-f7cb-86b50097871b"
      },
      "execution_count": null,
      "outputs": [
        {
          "output_type": "stream",
          "name": "stdout",
          "text": [
            "AUC-ROC for Random Oversampling: 0.9276083684348303\n",
            "Average Precision for Random Oversampling: 0.9039820134496991\n",
            "AUC-ROC for SMOTE: 0.9366710493959369\n",
            "Average Precision for SMOTE: 0.9128003959954423\n",
            "\n",
            "Comparison:\n",
            "SMOTE performs better in terms of AUC-ROC.\n",
            "SMOTE performs better in terms of Average Precision.\n"
          ]
        }
      ]
    },
    {
      "cell_type": "markdown",
      "source": [
        "# Logistic Regression Model Fitting"
      ],
      "metadata": {
        "id": "4-1NHbJbVBap"
      }
    },
    {
      "cell_type": "code",
      "source": [
        "# gridsearch to find the best hyperparameters for logistic regression\n",
        "\n",
        "from sklearn.model_selection import GridSearchCV\n",
        "\n",
        "# Define the parameter grid to search\n",
        "param_grid = {\n",
        "    'penalty': ['l1', 'l2'],\n",
        "    'C': [0.001, 0.01, 0.1, 1, 10, 100],\n",
        "    'solver': ['liblinear', 'saga']\n",
        "}\n",
        "\n",
        "# Create a logistic regression model\n",
        "logreg = LogisticRegression(max_iter=1000)\n",
        "\n",
        "# Instantiate GridSearchCV\n",
        "grid_search = GridSearchCV(logreg, param_grid, cv=5, scoring='roc_auc')\n",
        "\n",
        "# Fit the grid search to the training data (use SMOTE data)\n",
        "grid_search.fit(X_train_smote, y_train_smote.ravel())\n",
        "\n",
        "# Print the best hyperparameters\n",
        "print(\"Best Hyperparameters:\", grid_search.best_params_)\n",
        "\n",
        "# Get the best model\n",
        "best_model_logreg = grid_search.best_estimator_\n"
      ],
      "metadata": {
        "colab": {
          "base_uri": "https://localhost:8080/"
        },
        "id": "S_JysQKyr5Nq",
        "outputId": "8cc8595c-98af-4408-8515-ac9c9ef2d06c"
      },
      "execution_count": null,
      "outputs": [
        {
          "output_type": "stream",
          "name": "stdout",
          "text": [
            "Best Hyperparameters: {'C': 100, 'penalty': 'l1', 'solver': 'liblinear'}\n"
          ]
        }
      ]
    },
    {
      "cell_type": "code",
      "source": [
        "\n",
        "from sklearn.linear_model import LogisticRegression\n",
        "from sklearn import metrics\n",
        "from sklearn.metrics import confusion_matrix as cm\n",
        "from sklearn.metrics import classification_report\n",
        "from sklearn.metrics import roc_auc_score\n",
        "from sklearn.metrics import roc_curve\n",
        "from sklearn.metrics import matthews_corrcoef\n",
        "\n",
        "\n",
        "\n",
        "# Split the data into training and testing sets\n",
        "X_train, X_test, y_train, y_test = train_test_split(X_resampled_smote, y_resampled_smote, test_size=0.3, random_state=0)\n",
        "\n",
        "best_model_logreg = LogisticRegression(max_iter=1000, C=100, penalty='l1', solver='liblinear')\n",
        "#logreg.fit(X_train, y_train.ravel())\n",
        "#y_pred = logreg.predict(X_test)\n",
        "#print('Accuracy of logistic regression classifier on test set: {:.2f}'.format(logreg.score(X_test, y_test)))\n",
        "\n",
        "# Convert column vector y_train to a 1D array\n",
        "y_train = y_train.ravel()\n",
        "\n",
        "# fit the best model to the training data\n",
        "best_model_logreg.fit(X_train, y_train)\n"
      ],
      "metadata": {
        "colab": {
          "base_uri": "https://localhost:8080/",
          "height": 75
        },
        "id": "aLHx-aBWVF3K",
        "outputId": "33d19702-db72-4a71-9c88-f588ddb535dc"
      },
      "execution_count": null,
      "outputs": [
        {
          "output_type": "execute_result",
          "data": {
            "text/plain": [
              "LogisticRegression(C=100, max_iter=1000, penalty='l1', solver='liblinear')"
            ],
            "text/html": [
              "<style>#sk-container-id-1 {color: black;}#sk-container-id-1 pre{padding: 0;}#sk-container-id-1 div.sk-toggleable {background-color: white;}#sk-container-id-1 label.sk-toggleable__label {cursor: pointer;display: block;width: 100%;margin-bottom: 0;padding: 0.3em;box-sizing: border-box;text-align: center;}#sk-container-id-1 label.sk-toggleable__label-arrow:before {content: \"▸\";float: left;margin-right: 0.25em;color: #696969;}#sk-container-id-1 label.sk-toggleable__label-arrow:hover:before {color: black;}#sk-container-id-1 div.sk-estimator:hover label.sk-toggleable__label-arrow:before {color: black;}#sk-container-id-1 div.sk-toggleable__content {max-height: 0;max-width: 0;overflow: hidden;text-align: left;background-color: #f0f8ff;}#sk-container-id-1 div.sk-toggleable__content pre {margin: 0.2em;color: black;border-radius: 0.25em;background-color: #f0f8ff;}#sk-container-id-1 input.sk-toggleable__control:checked~div.sk-toggleable__content {max-height: 200px;max-width: 100%;overflow: auto;}#sk-container-id-1 input.sk-toggleable__control:checked~label.sk-toggleable__label-arrow:before {content: \"▾\";}#sk-container-id-1 div.sk-estimator input.sk-toggleable__control:checked~label.sk-toggleable__label {background-color: #d4ebff;}#sk-container-id-1 div.sk-label input.sk-toggleable__control:checked~label.sk-toggleable__label {background-color: #d4ebff;}#sk-container-id-1 input.sk-hidden--visually {border: 0;clip: rect(1px 1px 1px 1px);clip: rect(1px, 1px, 1px, 1px);height: 1px;margin: -1px;overflow: hidden;padding: 0;position: absolute;width: 1px;}#sk-container-id-1 div.sk-estimator {font-family: monospace;background-color: #f0f8ff;border: 1px dotted black;border-radius: 0.25em;box-sizing: border-box;margin-bottom: 0.5em;}#sk-container-id-1 div.sk-estimator:hover {background-color: #d4ebff;}#sk-container-id-1 div.sk-parallel-item::after {content: \"\";width: 100%;border-bottom: 1px solid gray;flex-grow: 1;}#sk-container-id-1 div.sk-label:hover label.sk-toggleable__label {background-color: #d4ebff;}#sk-container-id-1 div.sk-serial::before {content: \"\";position: absolute;border-left: 1px solid gray;box-sizing: border-box;top: 0;bottom: 0;left: 50%;z-index: 0;}#sk-container-id-1 div.sk-serial {display: flex;flex-direction: column;align-items: center;background-color: white;padding-right: 0.2em;padding-left: 0.2em;position: relative;}#sk-container-id-1 div.sk-item {position: relative;z-index: 1;}#sk-container-id-1 div.sk-parallel {display: flex;align-items: stretch;justify-content: center;background-color: white;position: relative;}#sk-container-id-1 div.sk-item::before, #sk-container-id-1 div.sk-parallel-item::before {content: \"\";position: absolute;border-left: 1px solid gray;box-sizing: border-box;top: 0;bottom: 0;left: 50%;z-index: -1;}#sk-container-id-1 div.sk-parallel-item {display: flex;flex-direction: column;z-index: 1;position: relative;background-color: white;}#sk-container-id-1 div.sk-parallel-item:first-child::after {align-self: flex-end;width: 50%;}#sk-container-id-1 div.sk-parallel-item:last-child::after {align-self: flex-start;width: 50%;}#sk-container-id-1 div.sk-parallel-item:only-child::after {width: 0;}#sk-container-id-1 div.sk-dashed-wrapped {border: 1px dashed gray;margin: 0 0.4em 0.5em 0.4em;box-sizing: border-box;padding-bottom: 0.4em;background-color: white;}#sk-container-id-1 div.sk-label label {font-family: monospace;font-weight: bold;display: inline-block;line-height: 1.2em;}#sk-container-id-1 div.sk-label-container {text-align: center;}#sk-container-id-1 div.sk-container {/* jupyter's `normalize.less` sets `[hidden] { display: none; }` but bootstrap.min.css set `[hidden] { display: none !important; }` so we also need the `!important` here to be able to override the default hidden behavior on the sphinx rendered scikit-learn.org. See: https://github.com/scikit-learn/scikit-learn/issues/21755 */display: inline-block !important;position: relative;}#sk-container-id-1 div.sk-text-repr-fallback {display: none;}</style><div id=\"sk-container-id-1\" class=\"sk-top-container\"><div class=\"sk-text-repr-fallback\"><pre>LogisticRegression(C=100, max_iter=1000, penalty=&#x27;l1&#x27;, solver=&#x27;liblinear&#x27;)</pre><b>In a Jupyter environment, please rerun this cell to show the HTML representation or trust the notebook. <br />On GitHub, the HTML representation is unable to render, please try loading this page with nbviewer.org.</b></div><div class=\"sk-container\" hidden><div class=\"sk-item\"><div class=\"sk-estimator sk-toggleable\"><input class=\"sk-toggleable__control sk-hidden--visually\" id=\"sk-estimator-id-1\" type=\"checkbox\" checked><label for=\"sk-estimator-id-1\" class=\"sk-toggleable__label sk-toggleable__label-arrow\">LogisticRegression</label><div class=\"sk-toggleable__content\"><pre>LogisticRegression(C=100, max_iter=1000, penalty=&#x27;l1&#x27;, solver=&#x27;liblinear&#x27;)</pre></div></div></div></div></div>"
            ]
          },
          "metadata": {},
          "execution_count": 28
        }
      ]
    },
    {
      "cell_type": "code",
      "source": [
        "# Predicting test results and calculating the accuracy\n",
        "y_pred = best_modellogreg.predict(X_test)\n",
        "print('Accuracy of logistic regression classifier on test set: {:.2f}'.format(best_model.score(X_test, y_test)))\n"
      ],
      "metadata": {
        "colab": {
          "base_uri": "https://localhost:8080/"
        },
        "id": "9I_kgqZRWD3Y",
        "outputId": "6913045f-7147-4e4b-fba3-63043f59af90"
      },
      "execution_count": null,
      "outputs": [
        {
          "output_type": "stream",
          "name": "stdout",
          "text": [
            "Accuracy of logistic regression classifier on test set: 0.89\n"
          ]
        }
      ]
    },
    {
      "cell_type": "code",
      "source": [
        "\n",
        "# Plot Confusion Matrix\n",
        "conf_matrix = cm(y_test, best_model_logreg.predict(X_test)) # Use cm() to create confusion matrix\n",
        "print(conf_matrix)\n",
        "\n",
        "\n",
        "# Plot confusion matrix\n",
        "\n",
        "cm_result = cm(y_test, best_model_logreg.predict(X_test)) # Use cm() again\n",
        "#print(cm_result)\n",
        "\n",
        "from sklearn.metrics import ConfusionMatrixDisplay\n",
        "disp = ConfusionMatrixDisplay(confusion_matrix=cm_result, display_labels=best_model_logreg.classes_)\n",
        "disp.plot()\n",
        "plt.show()\n"
      ],
      "metadata": {
        "colab": {
          "base_uri": "https://localhost:8080/",
          "height": 484
        },
        "id": "My72UBY-sQYX",
        "outputId": "b9768927-3eb5-42e5-e3a6-6c26159e579d"
      },
      "execution_count": null,
      "outputs": [
        {
          "output_type": "stream",
          "name": "stdout",
          "text": [
            "[[2590  419]\n",
            " [ 236 2781]]\n"
          ]
        },
        {
          "output_type": "display_data",
          "data": {
            "text/plain": [
              "<Figure size 640x480 with 2 Axes>"
            ],
            "image/png": "[encoded data removed]"
          },
          "metadata": {}
        }
      ]
    },
    {
      "cell_type": "code",
      "source": [
        "# Compute Precision, Recall, F1, and Support\n",
        "print(classification_report(y_test, best_model_logreg.predict(X_test)))\n"
      ],
      "metadata": {
        "colab": {
          "base_uri": "https://localhost:8080/"
        },
        "id": "4kHpahoMXG2i",
        "outputId": "fe307883-df53-4954-9b37-2817212f75a7"
      },
      "execution_count": null,
      "outputs": [
        {
          "output_type": "stream",
          "name": "stdout",
          "text": [
            "              precision    recall  f1-score   support\n",
            "\n",
            "           0       0.92      0.86      0.89      3009\n",
            "           1       0.87      0.92      0.89      3017\n",
            "\n",
            "    accuracy                           0.89      6026\n",
            "   macro avg       0.89      0.89      0.89      6026\n",
            "weighted avg       0.89      0.89      0.89      6026\n",
            "\n"
          ]
        }
      ]
    },
    {
      "cell_type": "code",
      "source": [
        "# ROC Curve\n",
        "logit_roc_auc = roc_auc_score(y_test, best_model_logreg.predict(X_test))\n",
        "fpr, tpr, thresholds = roc_curve(y_test, best_model_logreg.predict_proba(X_test)[:,1])\n",
        "plt.figure()\n",
        "plt.plot(fpr, tpr, label='Logistic Regression (area = %0.2f)' % logit_roc_auc)\n",
        "plt.plot([0, 1], [0, 1],'r--')\n",
        "plt.xlim([0.0, 1.0])\n",
        "plt.ylim([0.0, 1.05])\n",
        "plt.xlabel('False Positive Rate')\n",
        "plt.ylabel('True Positive Rate')\n",
        "plt.title('Receiver operating characteristic')\n",
        "plt.legend(loc=\"lower right\")\n",
        "plt.savefig('Log_ROC')\n",
        "plt.show()"
      ],
      "metadata": {
        "colab": {
          "base_uri": "https://localhost:8080/",
          "height": 472
        },
        "id": "SzqsnX59XiYm",
        "outputId": "ab91b291-5ca2-411d-bdad-d81e71e63e3b"
      },
      "execution_count": null,
      "outputs": [
        {
          "output_type": "display_data",
          "data": {
            "text/plain": [
              "<Figure size 640x480 with 1 Axes>"
            ],
            "image/png": "[encoded data removed]"
          },
          "metadata": {}
        }
      ]
    },
    {
      "cell_type": "code",
      "source": [
        "# perform Mathew Correlation Coefficient (MCC) metrics\n",
        "\n",
        "mcc = matthews_corrcoef(y_test, best_model_logreg.predict(X_test))\n",
        "print(\"Matthews Correlation Coefficient (MCC):\", mcc)\n"
      ],
      "metadata": {
        "colab": {
          "base_uri": "https://localhost:8080/"
        },
        "id": "G216wCKAYPRj",
        "outputId": "f45b5461-799e-4de1-dc9f-4c4bdd3e1f60"
      },
      "execution_count": null,
      "outputs": [
        {
          "output_type": "stream",
          "name": "stdout",
          "text": [
            "Matthews Correlation Coefficient (MCC): 0.7840385002889241\n"
          ]
        }
      ]
    },
    {
      "cell_type": "code",
      "source": [
        "# AUC metric\n",
        "auc = roc_auc_score(y_test, best_model_logreg.predict(X_test))\n",
        "print(\"AUC:\", auc)\n"
      ],
      "metadata": {
        "colab": {
          "base_uri": "https://localhost:8080/"
        },
        "id": "w17xkwrmZKjb",
        "outputId": "106af16b-f6d8-4e20-fe16-3205902c8d1d"
      },
      "execution_count": null,
      "outputs": [
        {
          "output_type": "stream",
          "name": "stdout",
          "text": [
            "AUC: 0.8912638396819266\n"
          ]
        }
      ]
    },
    {
      "cell_type": "markdown",
      "source": [
        "# **K-Nearest Neighbour Model Fitting**"
      ],
      "metadata": {
        "id": "jTZEN2ubkGiZ"
      }
    },
    {
      "cell_type": "code",
      "source": [
        "# gridsearch to find the best hyperparameters for k-nearest neigbor\n",
        "\n",
        "from sklearn.neighbors import KNeighborsClassifier\n",
        "\n",
        "# Define the parameter grid to search\n",
        "param_grid_knn = {\n",
        "    'n_neighbors': [3, 5, 7, 9, 11],\n",
        "    'weights': ['uniform', 'distance'],\n",
        "    'metric': ['euclidean', 'manhattan']\n",
        "}\n",
        "\n",
        "# Create a KNN model\n",
        "knn = KNeighborsClassifier()\n",
        "\n",
        "# Instantiate GridSearchCV\n",
        "grid_search_knn = GridSearchCV(knn, param_grid_knn, cv=5, scoring='roc_auc')\n",
        "\n",
        "# Fit the grid search to the training data (use SMOTE data)\n",
        "grid_search_knn.fit(X_train_smote, y_train_smote.ravel())\n",
        "\n",
        "# Print the best hyperparameters\n",
        "print(\"Best Hyperparameters for KNN:\", grid_search_knn.best_params_)\n",
        "\n",
        "# Get the best KNN model\n",
        "best_model_knn = grid_search_knn.best_estimator_\n"
      ],
      "metadata": {
        "colab": {
          "base_uri": "https://localhost:8080/"
        },
        "id": "I6sBoLprx5HD",
        "outputId": "b74eb315-e787-4747-ea81-e439d5cb433b"
      },
      "execution_count": null,
      "outputs": [
        {
          "output_type": "stream",
          "name": "stdout",
          "text": [
            "Best Hyperparameters for KNN: {'metric': 'manhattan', 'n_neighbors': 11, 'weights': 'distance'}\n"
          ]
        }
      ]
    },
    {
      "cell_type": "code",
      "source": [
        "# Import knearest neighbors Classifier model\n",
        "from sklearn.neighbors import KNeighborsClassifier\n",
        "from sklearn import metrics\n",
        "\n",
        "#Create KNN Classifier\n",
        "best_model_knn = KNeighborsClassifier(n_neighbors=11, metric='manhattan',weights='distance')\n",
        "\n",
        "#Train the model using the training sets\n",
        "best_model_knn.fit(X_train, y_train)\n",
        "\n",
        "#Predict the response for test dataset\n",
        "y_pred = best_model_knn.predict(X_test)\n",
        "\n",
        "#Import scikit-learn metrics module for accuracy calculation\n",
        "\n",
        "# Model Accuracy, how often is the classifier correct?\n",
        "print(\"Accuracy:\",metrics.accuracy_score(y_test, best_model_knn.predict(X_test)))\n"
      ],
      "metadata": {
        "colab": {
          "base_uri": "https://localhost:8080/"
        },
        "id": "8TI-WFq0rVxJ",
        "outputId": "67d00c51-cb66-4536-dc02-0a3307d7ad4f"
      },
      "execution_count": null,
      "outputs": [
        {
          "output_type": "stream",
          "name": "stdout",
          "text": [
            "Accuracy: 0.9215068038499834\n"
          ]
        }
      ]
    },
    {
      "cell_type": "code",
      "source": [
        "# KNN with accuracy, confusion_matrix, classification_report, roc_auc_score, roc_curve, and matthews_corrcoef metrics\n",
        "\n",
        "# Confusion Matrix\n",
        "confusion_matrix_knn = cm(y_test, best_model_knn.predict(X_test)) # Use the imported function\n",
        "print(\"Confusion Matrix:\\n\", confusion_matrix_knn)\n",
        "\n",
        "# Compute Precision, Recall, F1, and Support\n",
        "print(\"\\nClassification Report:\\n\", classification_report(y_test, best_model_knn.predict(X_test )))\n",
        "\n",
        "# ROC Curve\n",
        "knn_roc_auc = roc_auc_score(y_test, best_model_knn.predict(X_test))\n",
        "fpr, tpr, thresholds = roc_curve(y_test, best_model_knn.predict_proba(X_test)[:,1])\n",
        "plt.figure()\n",
        "plt.plot(fpr, tpr, label='KNN (area = %0.2f)' % knn_roc_auc)\n",
        "plt.plot([0, 1], [0, 1],'r--')\n",
        "plt.xlim([0.0, 1.0])\n",
        "plt.ylim([0.0, 1.05])\n",
        "plt.xlabel('False Positive Rate')\n",
        "plt.ylabel('True Positive Rate')\n",
        "plt.title('Receiver operating characteristic')\n",
        "plt.legend(loc=\"lower right\")\n",
        "#plt.savefig('KNN_ROC')\n",
        "plt.show()\n",
        "\n",
        "# perform Mathew Correlation Coefficient (MCC) metrics\n",
        "mcc_knn = matthews_corrcoef(y_test, best_model_knn.predict(X_test))\n",
        "print(\"Matthews Correlation Coefficient (MCC):\", mcc_knn)\n",
        "\n",
        "# AUC metric\n",
        "auc_knn = roc_auc_score(y_test, best_model_knn.predict(X_test))\n",
        "print(\"AUC:\", auc_knn)"
      ],
      "metadata": {
        "colab": {
          "base_uri": "https://localhost:8080/",
          "height": 750
        },
        "id": "k80Uemw4o9dC",
        "outputId": "9b0ae892-ae34-42d0-b21e-b07fde9f7a39"
      },
      "execution_count": null,
      "outputs": [
        {
          "output_type": "stream",
          "name": "stdout",
          "text": [
            "Confusion Matrix:\n",
            " [[2696  313]\n",
            " [ 160 2857]]\n",
            "\n",
            "Classification Report:\n",
            "               precision    recall  f1-score   support\n",
            "\n",
            "           0       0.94      0.90      0.92      3009\n",
            "           1       0.90      0.95      0.92      3017\n",
            "\n",
            "    accuracy                           0.92      6026\n",
            "   macro avg       0.92      0.92      0.92      6026\n",
            "weighted avg       0.92      0.92      0.92      6026\n",
            "\n"
          ]
        },
        {
          "output_type": "display_data",
          "data": {
            "text/plain": [
              "<Figure size 640x480 with 1 Axes>"
            ],
            "image/png": "[encoded data removed]"
          },
          "metadata": {}
        },
        {
          "output_type": "stream",
          "name": "stdout",
          "text": [
            "Matthews Correlation Coefficient (MCC): 0.8440918895882438\n",
            "AUC: 0.9214729582107725\n"
          ]
        }
      ]
    },
    {
      "cell_type": "code",
      "source": [
        "# Plot confusion matrix for knn\n",
        "cm_result = cm(y_test, best_model_knn.predict(X_test))\n",
        "disp = ConfusionMatrixDisplay(confusion_matrix=cm_result, display_labels=best_model_knn.classes_)\n",
        "disp.plot()\n",
        "plt.show()\n"
      ],
      "metadata": {
        "colab": {
          "base_uri": "https://localhost:8080/",
          "height": 449
        },
        "id": "H0ijJvcxvDWz",
        "outputId": "c244c458-4dce-4ba5-a5ca-fd9543c1b2f0"
      },
      "execution_count": null,
      "outputs": [
        {
          "output_type": "display_data",
          "data": {
            "text/plain": [
              "<Figure size 640x480 with 2 Axes>"
            ],
            "image/png": "[encoded data removed]"
          },
          "metadata": {}
        }
      ]
    },
    {
      "cell_type": "markdown",
      "source": [
        "# **SVM Model Fitting**"
      ],
      "metadata": {
        "id": "-xDAO4XAcGBT"
      }
    },
    {
      "cell_type": "code",
      "source": [
        "#gridsearch to find the best hyperparameter for the svm\n",
        "\n",
        "from sklearn.svm import SVC\n",
        "\n",
        "# Define the parameter grid to search\n",
        "param_grid_svm = {\n",
        "    'C': [0.1, 1, 10],\n",
        "    'kernel': ['linear', 'rbf', 'poly', 'sigmoid'],\n",
        "    'gamma': ['scale', 'auto']\n",
        "}\n",
        "\n",
        "# Create an SVM model\n",
        "svm = SVC(probability=True)  # Set probability=True for ROC AUC calculation\n",
        "\n",
        "# Instantiate GridSearchCV\n",
        "grid_search_svm = GridSearchCV(svm, param_grid_svm, cv=5, scoring='roc_auc')\n",
        "\n",
        "# Fit the grid search to the training data (use SMOTE data)\n",
        "grid_search_svm.fit(X_train_smote, y_train_smote.ravel())\n",
        "\n",
        "# Print the best hyperparameters\n",
        "print(\"Best Hyperparameters for SVM:\", grid_search_svm.best_params_)\n",
        "\n",
        "# Get the best SVM model\n",
        "best_model_svm = grid_search_svm.best_estimator_"
      ],
      "metadata": {
        "colab": {
          "base_uri": "https://localhost:8080/"
        },
        "id": "YAd34kmq2H3-",
        "outputId": "22eb9cd5-2a50-4f93-dab5-dadff5c9fe45"
      },
      "execution_count": null,
      "outputs": [
        {
          "output_type": "stream",
          "name": "stdout",
          "text": [
            "Best Hyperparameters for SVM: {'C': 10, 'gamma': 'scale', 'kernel': 'rbf'}\n"
          ]
        }
      ]
    },
    {
      "cell_type": "code",
      "source": [
        "#from sklearn.svm import SVC\n",
        "\n",
        "# Create SVM classifier\n",
        "svm = SVC(kernel='rbf', C=10, gamma='scale')\n",
        "\n",
        "# Train the model using the training sets\n",
        "best_model_svm.fit(X_train, y_train)\n",
        "\n",
        "# Predict the response for test dataset\n",
        "y_pred = best_model_svm.predict(X_test)\n",
        "\n",
        "# Model Accuracy\n",
        "print(\"Accuracy:\", metrics.accuracy_score(y_test, best_model_svm.predict(X_test)))\n",
        "\n",
        "# Confusion Matrix\n",
        "confusion_matrix_svm = cm(y_test, best_model_svm.predict(X_test))\n",
        "print(\"Confusion Matrix:\\n\", confusion_matrix_svm)\n",
        "\n",
        "# Compute Precision, Recall, F1, and Support\n",
        "print(\"\\nClassification Report:\\n\", classification_report(y_test, best_model_svm.predict(X_test)))\n",
        "\n",
        "# ROC Curve (Note: SVM doesn't directly provide probabilities, so we use decision_function)\n",
        "svm_roc_auc = roc_auc_score(y_test, best_model_svm.decision_function(X_test))\n",
        "fpr, tpr, thresholds = roc_curve(y_test, best_model_svm.decision_function(X_test))\n",
        "plt.figure()\n",
        "plt.plot(fpr, tpr, label='SVM (area = %0.2f)' % svm_roc_auc)\n",
        "plt.plot([0, 1], [0, 1], 'r--')\n",
        "plt.xlim([0.0, 1.0])\n",
        "plt.ylim([0.0, 1.05])\n",
        "plt.xlabel('False Positive Rate')\n",
        "plt.ylabel('True Positive Rate')\n",
        "plt.title('Receiver operating characteristic')\n",
        "plt.legend(loc=\"lower right\")\n",
        "plt.show()\n",
        "\n",
        "# Matthews Correlation Coefficient (MCC)\n",
        "mcc_svm = matthews_corrcoef(y_test, best_model_svm.predict(X_test))\n",
        "print(\"Matthews Correlation Coefficient (MCC):\", mcc_svm)\n",
        "\n",
        "# AUC metric\n",
        "auc_svm = roc_auc_score(y_test, best_model_svm.predict(X_test))\n",
        "print(\"AUC:\", auc_svm)\n",
        "\n",
        "# Plot confusion matrix for SVM\n",
        "cm_result = cm(y_test, best_model_svm.predict(X_test))\n",
        "disp = ConfusionMatrixDisplay(confusion_matrix=cm_result, display_labels=best_model_svm.classes_)\n",
        "disp.plot()\n",
        "plt.show()\n"
      ],
      "metadata": {
        "colab": {
          "base_uri": "https://localhost:8080/",
          "height": 1000
        },
        "id": "wI27058piZzB",
        "outputId": "9fee9c06-ad99-428a-a151-3e6d808b09a2"
      },
      "execution_count": null,
      "outputs": [
        {
          "output_type": "stream",
          "name": "stdout",
          "text": [
            "Accuracy: 0.9223365416528377\n",
            "Confusion Matrix:\n",
            " [[2671  338]\n",
            " [ 130 2887]]\n",
            "\n",
            "Classification Report:\n",
            "               precision    recall  f1-score   support\n",
            "\n",
            "           0       0.95      0.89      0.92      3009\n",
            "           1       0.90      0.96      0.93      3017\n",
            "\n",
            "    accuracy                           0.92      6026\n",
            "   macro avg       0.92      0.92      0.92      6026\n",
            "weighted avg       0.92      0.92      0.92      6026\n",
            "\n"
          ]
        },
        {
          "output_type": "display_data",
          "data": {
            "text/plain": [
              "<Figure size 640x480 with 1 Axes>"
            ],
            "image/png": "[encoded data removed]"
          },
          "metadata": {}
        },
        {
          "output_type": "stream",
          "name": "stdout",
          "text": [
            "Matthews Correlation Coefficient (MCC): 0.846678876755593\n",
            "AUC: 0.9222905804738035\n"
          ]
        },
        {
          "output_type": "display_data",
          "data": {
            "text/plain": [
              "<Figure size 640x480 with 2 Axes>"
            ],
            "image/png": "[encoded data removed]"
          },
          "metadata": {}
        }
      ]
    },
    {
      "cell_type": "markdown",
      "source": [
        "# **MLP**"
      ],
      "metadata": {
        "id": "rjI8-6a0mD_V"
      }
    },
    {
      "cell_type": "code",
      "source": [
        "# gridsearch to find the best hyperparameters for mlp\n",
        "\n",
        "from sklearn.neural_network import MLPClassifier\n",
        "\n",
        "# Define the parameter grid to search\n",
        "param_grid_mlp = {\n",
        "    'hidden_layer_sizes': [(50,), (100,), (50, 50)],\n",
        "    'activation': ['relu', 'tanh'],\n",
        "    'solver': ['adam', 'sgd'],\n",
        "    'alpha': [0.0001, 0.001, 0.01]\n",
        "}\n",
        "\n",
        "# Create an MLP model\n",
        "mlp = MLPClassifier(max_iter=2000)  # Increase max_iter if needed\n",
        "\n",
        "# Instantiate GridSearchCV\n",
        "grid_search_mlp = GridSearchCV(mlp, param_grid_mlp, cv=5, scoring='roc_auc')\n",
        "\n",
        "# Fit the grid search to the training data (use SMOTE data)\n",
        "grid_search_mlp.fit(X_train_smote, y_train_smote.ravel())\n",
        "\n",
        "# Print the best hyperparameters\n",
        "print(\"Best Hyperparameters for MLP:\", grid_search_mlp.best_params_)\n"
      ],
      "metadata": {
        "colab": {
          "base_uri": "https://localhost:8080/"
        },
        "id": "P3OcBcq4NLwf",
        "outputId": "d13a8c7c-a82d-4663-cace-8b9cdab00a2f"
      },
      "execution_count": null,
      "outputs": [
        {
          "output_type": "stream",
          "name": "stdout",
          "text": [
            "Best Hyperparameters for MLP: {'activation': 'tanh', 'alpha': 0.0001, 'hidden_layer_sizes': (100,), 'solver': 'adam'}\n"
          ]
        }
      ]
    },
    {
      "cell_type": "code",
      "source": [
        "# Get the best MLP model\n",
        "best_model_mlp = grid_search_mlp.best_estimator_"
      ],
      "metadata": {
        "id": "S-Z42y-ircu8"
      },
      "execution_count": null,
      "outputs": []
    },
    {
      "cell_type": "code",
      "source": [
        "#from sklearn.neural_network import MLPClassifier\n",
        "#from tensorflow.keras.callbacks import ModelCheckpoint\n",
        "#from tensorflow.keras.models import load_model\n",
        "\n",
        "\n",
        "# Create MLP classifier\n",
        "mlp = MLPClassifier(hidden_layer_sizes=(100,), max_iter=2000, activation='relu', alpha=0.0001, solver='adam', random_state=42)  # use the best gridsearchparameters\n",
        "\n",
        "'''# Create checkpoint callback\n",
        "checkpoint_filepath = '/content/drive/MyDrive/VAERSDATA/model_checkpoint4.keras'\n",
        "checkpoint_callback = ModelCheckpoint(\n",
        "    filepath=checkpoint_filepath,\n",
        "    save_weights_only=False,\n",
        "    monitor='val_accuracy',\n",
        "    mode='max',\n",
        "    save_best_only=True\n",
        ")'''\n",
        "# Train the model using the training sets\n",
        "best_model_mlp.fit(X_train, y_train) #, epochs=10, validation_data=(X_test, y_test), callbacks=[checkpoint_callback])\n",
        "\n",
        "#best_model_mlp = load_model('/content/drive/MyDrive/VAERSDATA/model_checkpoint4.keras')\n",
        "\n",
        "\n",
        "# Predict the response for test dataset\n",
        "y_pred = best_model_mlp.predict(X_test)\n",
        "\n",
        "# Model Accuracy\n",
        "print(\"Accuracy:\", metrics.accuracy_score(y_test, best_model_mlp.predict(X_test)))\n",
        "\n",
        "# Confusion Matrix\n",
        "confusion_matrix_mlp = cm(y_test, best_model_mlp.predict(X_test))\n",
        "print(\"Confusion Matrix:\\n\", confusion_matrix_mlp)\n",
        "\n",
        "# Compute Precision, Recall, F1, and Support\n",
        "print(\"\\nClassification Report:\\n\", classification_report(y_test, best_model_mlp.predict(X_test)))\n",
        "\n",
        "# ROC Curve\n",
        "mlp_roc_auc = roc_auc_score(y_test, best_model_mlp.predict_proba(X_test)[:,1])\n",
        "fpr, tpr, thresholds = roc_curve(y_test, best_model_mlp.predict_proba(X_test)[:,1])\n",
        "plt.figure()\n",
        "plt.plot(fpr, tpr, label='MLP (area = %0.2f)' % mlp_roc_auc)\n",
        "plt.plot([0, 1], [0, 1], 'r--')\n",
        "plt.xlim([0.0, 1.0])\n",
        "plt.ylim([0.0, 1.05])\n",
        "plt.xlabel('False Positive Rate')\n",
        "plt.ylabel('True Positive Rate')\n",
        "plt.title('Receiver operating characteristic')\n",
        "plt.legend(loc=\"lower right\")\n",
        "plt.show()\n",
        "\n",
        "# Matthews Correlation Coefficient (MCC)\n",
        "mcc_mlp = matthews_corrcoef(y_test, best_model_mlp.predict(X_test))\n",
        "print(\"Matthews Correlation Coefficient (MCC):\", mcc_mlp)\n",
        "\n",
        "# AUC metric\n",
        "auc_mlp = roc_auc_score(y_test, best_model_mlp.predict(X_test))\n",
        "print(\"AUC:\", auc_mlp)\n",
        "\n",
        "# Plot confusion matrix for MLP\n",
        "cm_result = cm(y_test, best_model_mlp.predict(X_test))\n",
        "disp = ConfusionMatrixDisplay(confusion_matrix=cm_result, display_labels=best_model_mlp.classes_)\n",
        "disp.plot()\n",
        "plt.show()\n"
      ],
      "metadata": {
        "colab": {
          "base_uri": "https://localhost:8080/",
          "height": 1000
        },
        "id": "u0rKiZ6mmH_1",
        "outputId": "ef7168b9-cc33-4456-ffec-624d9073af50"
      },
      "execution_count": null,
      "outputs": [
        {
          "output_type": "stream",
          "name": "stdout",
          "text": [
            "Accuracy: 0.9258214404248257\n",
            "Confusion Matrix:\n",
            " [[2671  338]\n",
            " [ 109 2908]]\n",
            "\n",
            "Classification Report:\n",
            "               precision    recall  f1-score   support\n",
            "\n",
            "           0       0.96      0.89      0.92      3009\n",
            "           1       0.90      0.96      0.93      3017\n",
            "\n",
            "    accuracy                           0.93      6026\n",
            "   macro avg       0.93      0.93      0.93      6026\n",
            "weighted avg       0.93      0.93      0.93      6026\n",
            "\n"
          ]
        },
        {
          "output_type": "display_data",
          "data": {
            "text/plain": [
              "<Figure size 640x480 with 1 Axes>"
            ],
            "image/png": "[encoded data removed]"
          },
          "metadata": {}
        },
        {
          "output_type": "stream",
          "name": "stdout",
          "text": [
            "Matthews Correlation Coefficient (MCC): 0.8540986246969761\n",
            "AUC: 0.9257708588960772\n"
          ]
        },
        {
          "output_type": "display_data",
          "data": {
            "text/plain": [
              "<Figure size 640x480 with 2 Axes>"
            ],
            "image/png": "[encoded data removed]"
          },
          "metadata": {}
        }
      ]
    },
    {
      "cell_type": "markdown",
      "source": [
        "# **XGBoost**"
      ],
      "metadata": {
        "id": "xWA9XT9BoxPr"
      }
    },
    {
      "cell_type": "code",
      "source": [
        "#gridsearch to find the best hyperparameters for xgboost\n",
        "import xgboost\n",
        "\n",
        "# Import the XGBoost classifier\n",
        "from xgboost import XGBClassifier\n",
        "\n",
        "# Define the parameter grid to search\n",
        "param_grid_xgb = {\n",
        "    'n_estimators': [50, 100, 200],\n",
        "    'learning_rate': [0.01, 0.1, 0.2],\n",
        "    'max_depth': [3, 5, 7, 9]\n",
        "}\n",
        "\n",
        "# Create an XGBoost model\n",
        "xgb = XGBClassifier()\n",
        "\n",
        "# Instantiate GridSearchCV\n",
        "grid_search_xgb = GridSearchCV(xgb, param_grid_xgb, cv=5, scoring='roc_auc')\n",
        "\n",
        "# Fit the grid search to the training data (use SMOTE data)\n",
        "grid_search_xgb.fit(X_train_smote, y_train_smote.ravel())\n",
        "\n",
        "# Print the best hyperparameters\n",
        "print(\"Best Hyperparameters for XGBoost:\", grid_search_xgb.best_params_)\n",
        "\n",
        "# Get the best XGBoost model\n",
        "best_model_xgb = grid_search_xgb.best_estimator_"
      ],
      "metadata": {
        "colab": {
          "base_uri": "https://localhost:8080/"
        },
        "id": "p7aE6c8G_MYf",
        "outputId": "c7d0e1ee-de71-4dfa-8657-d8ead89e2407"
      },
      "execution_count": null,
      "outputs": [
        {
          "output_type": "stream",
          "name": "stdout",
          "text": [
            "Best Hyperparameters for XGBoost: {'learning_rate': 0.2, 'max_depth': 7, 'n_estimators': 200}\n"
          ]
        }
      ]
    },
    {
      "cell_type": "code",
      "source": [
        "#import xgboost\n",
        "\n",
        "# Import the XGBoost classifier\n",
        "#from xgboost import XGBClassifier\n",
        "\n",
        "# Create XGBoost classifier\n",
        "best_model_xgb = XGBClassifier(learning_rate=0.2, max_depth=7, n_estimators=200)  # use the gridsearch parameters\n",
        "\n",
        "# Train the model using the training sets\n",
        "best_model_xgb.fit(X_train, y_train)\n",
        "\n",
        "# Predict the response for test dataset\n",
        "y_pred = best_model_xgb.predict(X_test)\n",
        "\n",
        "# Model Accuracy\n",
        "print(\"Accuracy:\", metrics.accuracy_score(y_test, best_model_xgb.predict(X_test)))\n",
        "\n",
        "# Confusion Matrix\n",
        "confusion_matrix_xgb = cm(y_test, best_model_xgb.predict(X_test))\n",
        "print(\"Confusion Matrix:\\n\", confusion_matrix_xgb)\n",
        "\n",
        "# Compute Precision, Recall, F1, and Support\n",
        "print(\"\\nClassification Report:\\n\", classification_report(y_test, best_model_xgb.predict(X_test)))\n",
        "\n",
        "# ROC Curve\n",
        "xgb_roc_auc = roc_auc_score(y_test, best_model_xgb.predict_proba(X_test)[:,1])\n",
        "fpr, tpr, thresholds = roc_curve(y_test, best_model_xgb.predict_proba(X_test)[:,1])\n",
        "plt.figure()\n",
        "plt.plot(fpr, tpr, label='XGBoost (area = %0.2f)' % xgb_roc_auc)\n",
        "plt.plot([0, 1], [0, 1], 'r--')\n",
        "plt.xlim([0.0, 1.0])\n",
        "plt.ylim([0.0, 1.05])\n",
        "plt.xlabel('False Positive Rate')\n",
        "plt.ylabel('True Positive Rate')\n",
        "plt.title('Receiver operating characteristic')\n",
        "plt.legend(loc=\"lower right\")\n",
        "plt.show()\n",
        "\n",
        "# Matthews Correlation Coefficient (MCC)\n",
        "mcc_xgb = matthews_corrcoef(y_test, best_model_xgb.predict(X_test))\n",
        "print(\"Matthews Correlation Coefficient (MCC):\", mcc_xgb)\n",
        "\n",
        "# AUC metric\n",
        "auc_xgb = roc_auc_score(y_test, best_model_xgb.predict(X_test))\n",
        "print(\"AUC:\", auc_xgb)\n",
        "\n",
        "# Plot confusion matrix for XGBoost\n",
        "cm_result = cm(y_test, best_model_xgb.predict(X_test))\n",
        "disp = ConfusionMatrixDisplay(confusion_matrix=cm_result, display_labels=best_model_xgb.classes_)\n",
        "disp.plot()\n",
        "plt.show()\n"
      ],
      "metadata": {
        "colab": {
          "base_uri": "https://localhost:8080/",
          "height": 1000
        },
        "id": "58g74GOTqdFY",
        "outputId": "5bf91b0e-65d6-444a-adf1-d0e9297fce16"
      },
      "execution_count": null,
      "outputs": [
        {
          "output_type": "stream",
          "name": "stdout",
          "text": [
            "Accuracy: 0.9449054098904746\n",
            "Confusion Matrix:\n",
            " [[2832  177]\n",
            " [ 155 2862]]\n",
            "\n",
            "Classification Report:\n",
            "               precision    recall  f1-score   support\n",
            "\n",
            "           0       0.95      0.94      0.94      3009\n",
            "           1       0.94      0.95      0.95      3017\n",
            "\n",
            "    accuracy                           0.94      6026\n",
            "   macro avg       0.94      0.94      0.94      6026\n",
            "weighted avg       0.94      0.94      0.94      6026\n",
            "\n"
          ]
        },
        {
          "output_type": "display_data",
          "data": {
            "text/plain": [
              "<Figure size 640x480 with 1 Axes>"
            ],
            "image/png": "[encoded data removed]"
          },
          "metadata": {}
        },
        {
          "output_type": "stream",
          "name": "stdout",
          "text": [
            "Matthews Correlation Coefficient (MCC): 0.8898332788970813\n",
            "AUC: 0.9449004659868588\n"
          ]
        },
        {
          "output_type": "display_data",
          "data": {
            "text/plain": [
              "<Figure size 640x480 with 2 Axes>"
            ],
            "image/png": "[encoded data removed]"
          },
          "metadata": {}
        }
      ]
    },
    {
      "cell_type": "markdown",
      "source": [
        "# **Random Forests**"
      ],
      "metadata": {
        "id": "knjef2g3wehJ"
      }
    },
    {
      "cell_type": "code",
      "source": [
        "# gridsearch to find the best hyperparameters for random forest\n",
        "\n",
        "from sklearn.ensemble import RandomForestClassifier\n",
        "\n",
        "# Define the parameter grid to search\n",
        "param_grid_rf = {\n",
        "    'n_estimators': [50, 100, 200],\n",
        "    'max_depth': [None, 10, 20, 30],\n",
        "    'min_samples_split': [2, 5, 10],\n",
        "    'min_samples_leaf': [1, 2, 4]\n",
        "}\n",
        "\n",
        "# Create a Random Forest model\n",
        "rf = RandomForestClassifier()\n",
        "\n",
        "# Instantiate GridSearchCV\n",
        "grid_search_rf = GridSearchCV(rf, param_grid_rf, cv=5, scoring='roc_auc')\n",
        "\n",
        "# Fit the grid search to the training data (use SMOTE data)\n",
        "grid_search_rf.fit(X_train_smote, y_train_smote.ravel())\n",
        "\n",
        "# Print the best hyperparameters\n",
        "print(\"Best Hyperparameters for Random Forest:\", grid_search_rf.best_params_)\n",
        "\n",
        "# Get the best Random Forest model\n",
        "best_model_rf = grid_search_rf.best_estimator_\n"
      ],
      "metadata": {
        "colab": {
          "base_uri": "https://localhost:8080/"
        },
        "id": "Ez68q9fWDn0O",
        "outputId": "ac2eec56-1a9a-47b9-d4a2-e7cb96cc96c3"
      },
      "execution_count": null,
      "outputs": [
        {
          "output_type": "stream",
          "name": "stdout",
          "text": [
            "Best Hyperparameters for Random Forest: {'max_depth': 20, 'min_samples_leaf': 1, 'min_samples_split': 2, 'n_estimators': 200}\n"
          ]
        }
      ]
    },
    {
      "cell_type": "code",
      "source": [
        "#from sklearn.ensemble import RandomForestClassifier\n",
        "\n",
        "# Create Random Forest classifier\n",
        "rf = RandomForestClassifier(n_estimators=200, max_depth=20, min_samples_leaf=1, min_samples_split=2, random_state=42)  # use the gridsearch parameters\n",
        "\n",
        "# Train the model using the training sets\n",
        "best_model_rf.fit(X_train, y_train)\n",
        "\n",
        "# Predict the response for test dataset\n",
        "y_pred = best_model_rf.predict(X_test)\n",
        "\n",
        "# Model Accuracy\n",
        "print(\"Accuracy:\", metrics.accuracy_score(y_test, best_model_rf.predict(X_test)))\n",
        "\n",
        "# Confusion Matrix\n",
        "confusion_matrix_rf = cm(y_test, best_model_rf.predict(X_test))\n",
        "print(\"Confusion Matrix:\\n\", confusion_matrix_rf)\n",
        "\n",
        "# Compute Precision, Recall, F1, and Support\n",
        "print(\"\\nClassification Report:\\n\", classification_report(y_test, best_model_rf.predict(X_test)))\n",
        "\n",
        "# ROC Curve\n",
        "rf_roc_auc = roc_auc_score(y_test, best_model_rf.predict_proba(X_test)[:,1])\n",
        "fpr, tpr, thresholds = roc_curve(y_test, best_model_rf.predict_proba(X_test)[:,1])\n",
        "plt.figure()\n",
        "plt.plot(fpr, tpr, label='Random Forest (area = %0.2f)' % rf_roc_auc)\n",
        "plt.plot([0, 1], [0, 1], 'r--')\n",
        "plt.xlim([0.0, 1.0])\n",
        "plt.ylim([0.0, 1.05])\n",
        "plt.xlabel('False Positive Rate')\n",
        "plt.ylabel('True Positive Rate')\n",
        "plt.title('Receiver operating characteristic')\n",
        "plt.legend(loc=\"lower right\")\n",
        "plt.show()\n",
        "\n",
        "# Matthews Correlation Coefficient (MCC)\n",
        "mcc_rf = matthews_corrcoef(y_test, best_model_rf.predict(X_test))\n",
        "print(\"Matthews Correlation Coefficient (MCC):\", mcc_rf)\n",
        "\n",
        "# AUC metric\n",
        "auc_rf = roc_auc_score(y_test, best_model_rf.predict(X_test))\n",
        "print(\"AUC:\", auc_rf)\n",
        "\n",
        "# Plot confusion matrix for Random Forest\n",
        "cm_result = cm(y_test, best_model_rf.predict(X_test))\n",
        "disp = ConfusionMatrixDisplay(confusion_matrix=cm_result, display_labels=best_model_rf.classes_)\n",
        "disp.plot()\n",
        "plt.show()\n"
      ],
      "metadata": {
        "colab": {
          "base_uri": "https://localhost:8080/",
          "height": 1000
        },
        "id": "xkKdwfAIxgF2",
        "outputId": "94856390-300a-4d1a-9aba-719ce3e79ef6"
      },
      "execution_count": null,
      "outputs": [
        {
          "output_type": "stream",
          "name": "stdout",
          "text": [
            "Accuracy: 0.939761035512778\n",
            "Confusion Matrix:\n",
            " [[2767  242]\n",
            " [ 121 2896]]\n",
            "\n",
            "Classification Report:\n",
            "               precision    recall  f1-score   support\n",
            "\n",
            "           0       0.96      0.92      0.94      3009\n",
            "           1       0.92      0.96      0.94      3017\n",
            "\n",
            "    accuracy                           0.94      6026\n",
            "   macro avg       0.94      0.94      0.94      6026\n",
            "weighted avg       0.94      0.94      0.94      6026\n",
            "\n"
          ]
        },
        {
          "output_type": "display_data",
          "data": {
            "text/plain": [
              "<Figure size 640x480 with 1 Axes>"
            ],
            "image/png": "[encoded data removed]"
          },
          "metadata": {}
        },
        {
          "output_type": "stream",
          "name": "stdout",
          "text": [
            "Matthews Correlation Coefficient (MCC): 0.8802256005373247\n",
            "AUC: 0.9397342719383558\n"
          ]
        },
        {
          "output_type": "display_data",
          "data": {
            "text/plain": [
              "<Figure size 640x480 with 2 Axes>"
            ],
            "image/png": "[encoded data removed]"
          },
          "metadata": {}
        }
      ]
    },
    {
      "cell_type": "markdown",
      "source": [
        "# **CatBoost**"
      ],
      "metadata": {
        "id": "tWSdfz3qzEpQ"
      }
    },
    {
      "cell_type": "code",
      "source": [
        "# gridsearch to find the best hyperparameters for catboost\n",
        "\n",
        "!pip install catboost\n",
        "#import catboost\n",
        "from catboost import CatBoostClassifier  # Import the CatBoost classifier\n",
        "\n",
        "# Define the parameter grid to search\n",
        "param_grid_catboost = {\n",
        "    'iterations': [50, 100, 200],\n",
        "    'learning_rate': [0.01, 0.1, 0.2],\n",
        "    'depth': [3, 5, 7]\n",
        "}\n",
        "\n",
        "# Create a CatBoost model\n",
        "catboost = CatBoostClassifier(verbose=0)  # Suppress verbose output during grid search\n",
        "\n",
        "# Instantiate GridSearchCV\n",
        "grid_search_catboost = GridSearchCV(catboost, param_grid_catboost, cv=5, scoring='roc_auc')\n",
        "\n",
        "# Fit the grid search to the training data (use SMOTE data)\n",
        "grid_search_catboost.fit(X_train_smote, y_train_smote.ravel())\n",
        "\n",
        "# Print the best hyperparameters\n",
        "print(\"Best Hyperparameters for CatBoost:\", grid_search_catboost.best_params_)\n",
        "\n",
        "# Get the best CatBoost model\n",
        "best_model_catboost = grid_search_catboost.best_estimator_\n"
      ],
      "metadata": {
        "colab": {
          "base_uri": "https://localhost:8080/"
        },
        "id": "Ks75txcAWC_K",
        "outputId": "5a51a4d4-1d08-455a-d4f5-3ee04d22559a"
      },
      "execution_count": null,
      "outputs": [
        {
          "output_type": "stream",
          "name": "stdout",
          "text": [
            "Collecting catboost\n",
            "  Downloading catboost-1.2.5-cp310-cp310-manylinux2014_x86_64.whl.metadata (1.2 kB)\n",
            "Requirement already satisfied: graphviz in /usr/local/lib/python3.10/dist-packages (from catboost) (0.20.3)\n",
            "Requirement already satisfied: matplotlib in /usr/local/lib/python3.10/dist-packages (from catboost) (3.7.1)\n",
            "Requirement already satisfied: numpy>=1.16.0 in /usr/local/lib/python3.10/dist-packages (from catboost) (1.26.4)\n",
            "Requirement already satisfied: pandas>=0.24 in /usr/local/lib/python3.10/dist-packages (from catboost) (2.1.4)\n",
            "Requirement already satisfied: scipy in /usr/local/lib/python3.10/dist-packages (from catboost) (1.13.1)\n",
            "Requirement already satisfied: plotly in /usr/local/lib/python3.10/dist-packages (from catboost) (5.15.0)\n",
            "Requirement already satisfied: six in /usr/local/lib/python3.10/dist-packages (from catboost) (1.16.0)\n",
            "Requirement already satisfied: python-dateutil>=2.8.2 in /usr/local/lib/python3.10/dist-packages (from pandas>=0.24->catboost) (2.8.2)\n",
            "Requirement already satisfied: pytz>=2020.1 in /usr/local/lib/python3.10/dist-packages (from pandas>=0.24->catboost) (2024.1)\n",
            "Requirement already satisfied: tzdata>=2022.1 in /usr/local/lib/python3.10/dist-packages (from pandas>=0.24->catboost) (2024.1)\n",
            "Requirement already satisfied: contourpy>=1.0.1 in /usr/local/lib/python3.10/dist-packages (from matplotlib->catboost) (1.2.1)\n",
            "Requirement already satisfied: cycler>=0.10 in /usr/local/lib/python3.10/dist-packages (from matplotlib->catboost) (0.12.1)\n",
            "Requirement already satisfied: fonttools>=4.22.0 in /usr/local/lib/python3.10/dist-packages (from matplotlib->catboost) (4.53.1)\n",
            "Requirement already satisfied: kiwisolver>=1.0.1 in /usr/local/lib/python3.10/dist-packages (from matplotlib->catboost) (1.4.5)\n",
            "Requirement already satisfied: packaging>=20.0 in /usr/local/lib/python3.10/dist-packages (from matplotlib->catboost) (24.1)\n",
            "Requirement already satisfied: pillow>=6.2.0 in /usr/local/lib/python3.10/dist-packages (from matplotlib->catboost) (9.4.0)\n",
            "Requirement already satisfied: pyparsing>=2.3.1 in /usr/local/lib/python3.10/dist-packages (from matplotlib->catboost) (3.1.2)\n",
            "Requirement already satisfied: tenacity>=6.2.0 in /usr/local/lib/python3.10/dist-packages (from plotly->catboost) (9.0.0)\n",
            "Downloading catboost-1.2.5-cp310-cp310-manylinux2014_x86_64.whl (98.2 MB)\n",
            "\u001b[2K   \u001b[90m━━━━━━━━━━━━━━━━━━━━━━━━━━━━━━━━━━━━━━━━\u001b[0m \u001b[32m98.2/98.2 MB\u001b[0m \u001b[31m6.8 MB/s\u001b[0m eta \u001b[36m0:00:00\u001b[0m\n",
            "\u001b[?25hInstalling collected packages: catboost\n",
            "Successfully installed catboost-1.2.5\n",
            "Best Hyperparameters for CatBoost: {'depth': 7, 'iterations': 200, 'learning_rate': 0.2}\n"
          ]
        }
      ]
    },
    {
      "cell_type": "code",
      "source": [
        "# Install catboost if not already installed\n",
        "#!pip install catboost\n",
        "#import catboost\n",
        "#from catboost import CatBoostClassifier\n",
        "\n",
        "# Create CatBoost classifier\n",
        "catboost = CatBoostClassifier(iterations=200, depth=7, learning_rate=0.2, random_seed=42)  # use grisearch parameters\n",
        "\n",
        "# Train the model using the training sets\n",
        "best_model_catboost.fit(X_train, y_train)\n",
        "\n",
        "# Predict the response for test dataset\n",
        "y_pred = best_model_catboost.predict(X_test)\n",
        "\n",
        "# Model Accuracy\n",
        "print(\"Accuracy:\", metrics.accuracy_score(y_test, best_model_catboost.predict(X_test)))\n",
        "\n",
        "# Confusion Matrix\n",
        "confusion_matrix_catboost = cm(y_test, best_model_catboost.predict(X_test))\n",
        "print(\"Confusion Matrix:\\n\", confusion_matrix_catboost)\n",
        "\n",
        "# Compute Precision, Recall, F1, and Support\n",
        "print(\"\\nClassification Report:\\n\", classification_report(y_test, best_model_catboost.predict(X_test)))\n",
        "\n",
        "# ROC Curve\n",
        "catboost_roc_auc = roc_auc_score(y_test, best_model_catboost.predict_proba(X_test)[:,1])\n",
        "fpr, tpr, thresholds = roc_curve(y_test, best_model_catboost.predict_proba(X_test)[:,1])\n",
        "plt.figure()\n",
        "plt.plot(fpr, tpr, label='CatBoost (area = %0.2f)' % catboost_roc_auc)\n",
        "plt.plot([0, 1], [0, 1], 'r--')\n",
        "plt.xlim([0.0, 1.0])\n",
        "plt.ylim([0.0, 1.05])\n",
        "plt.xlabel('False Positive Rate')\n",
        "plt.ylabel('True Positive Rate')\n",
        "plt.title('Receiver operating characteristic')\n",
        "plt.legend(loc=\"lower right\")\n",
        "plt.show()\n",
        "\n",
        "# Matthews Correlation Coefficient (MCC)\n",
        "mcc_catboost = matthews_corrcoef(y_test, best_model_catboost.predict(X_test))\n",
        "print(\"Matthews Correlation Coefficient (MCC):\", mcc_catboost)\n",
        "\n",
        "# AUC metric\n",
        "auc_catboost = roc_auc_score(y_test, best_model_catboost.predict(X_test))\n",
        "print(\"AUC:\", auc_catboost)\n",
        "\n",
        "# Plot confusion matrix for CatBoost\n",
        "cm_result = cm(y_test, best_model_catboost.predict(X_test))\n",
        "disp = ConfusionMatrixDisplay(confusion_matrix=cm_result, display_labels=best_model_catboost.classes_)\n",
        "disp.plot()\n",
        "plt.show()\n"
      ],
      "metadata": {
        "colab": {
          "base_uri": "https://localhost:8080/",
          "height": 1000
        },
        "id": "ZiyuHEk30AhK",
        "outputId": "76daf82b-4f33-47c3-d672-883191880bbd"
      },
      "execution_count": null,
      "outputs": [
        {
          "output_type": "stream",
          "name": "stdout",
          "text": [
            "Accuracy: 0.9540325257218719\n",
            "Confusion Matrix:\n",
            " [[2867  142]\n",
            " [ 135 2882]]\n",
            "\n",
            "Classification Report:\n",
            "               precision    recall  f1-score   support\n",
            "\n",
            "           0       0.96      0.95      0.95      3009\n",
            "           1       0.95      0.96      0.95      3017\n",
            "\n",
            "    accuracy                           0.95      6026\n",
            "   macro avg       0.95      0.95      0.95      6026\n",
            "weighted avg       0.95      0.95      0.95      6026\n",
            "\n"
          ]
        },
        {
          "output_type": "display_data",
          "data": {
            "text/plain": [
              "<Figure size 640x480 with 1 Axes>"
            ],
            "image/png": "[encoded data removed]"
          },
          "metadata": {}
        },
        {
          "output_type": "stream",
          "name": "stdout",
          "text": [
            "Matthews Correlation Coefficient (MCC): 0.9080670565541603\n",
            "AUC: 0.9540309025415191\n"
          ]
        },
        {
          "output_type": "display_data",
          "data": {
            "text/plain": [
              "<Figure size 640x480 with 2 Axes>"
            ],
            "image/png": "[encoded data removed]"
          },
          "metadata": {}
        }
      ]
    },
    {
      "cell_type": "markdown",
      "source": [
        "# **Stack Ensemble**"
      ],
      "metadata": {
        "id": "xk3IOEph15Qv"
      }
    },
    {
      "cell_type": "code",
      "source": [
        "# gridsearch to find the best hyperparameters for stack ensemble\n",
        "\n",
        "from sklearn.ensemble import StackingClassifier\n",
        "\n",
        "# Define the base models\n",
        "base_models = [\n",
        "    ('logistic', best_model),\n",
        "    ('knn', best_model_knn),\n",
        "    ('svm', best_model_svm),\n",
        "    ('mlp', best_model_mlp),\n",
        "    ('xgboost', best_model_xgb),\n",
        "    ('random_forest', best_model_rf),\n",
        "    ('catboost', best_model_catboost)\n",
        "]\n",
        "\n",
        "# Define the meta-model\n",
        "meta_model = MLPClassifier(hidden_layer_sizes=(100,), max_iter=2000, random_state=42)\n",
        "\n",
        "# Define the parameter grid to search\n",
        "param_grid_stacking = {\n",
        "    'final_estimator__hidden_layer_sizes': [(50,), (100,), (50,50)],\n",
        "    'final_estimator__activation': ['tanh', 'relu'],\n",
        "    'final_estimator__alpha': [0.0001, 0.001, 0.01]\n",
        "\n",
        "\n",
        "}\n",
        "\n",
        "# Create a StackingClassifier\n",
        "stacking_classifier = StackingClassifier(\n",
        "    estimators=base_models,\n",
        "    final_estimator=meta_model\n",
        ")\n",
        "\n",
        "# Instantiate GridSearchCV\n",
        "grid_search_stacking = GridSearchCV(stacking_classifier, param_grid_stacking, cv=5, scoring='roc_auc')\n",
        "\n",
        "# Fit the grid search to the training data (use SMOTE data)\n",
        "grid_search_stacking.fit(X_train_smote, y_train_smote.ravel())\n",
        "\n",
        "# Print the best hyperparameters\n",
        "print(\"Best Hyperparameters for Stacking Ensemble:\", grid_search_stacking.best_params_)\n",
        "\n",
        "# Get the best Stacking Ensemble model\n",
        "best_model_stacking = grid_search_stacking.best_estimator_\n"
      ],
      "metadata": {
        "id": "sTeCQDlacHuu"
      },
      "execution_count": null,
      "outputs": []
    }
  ]
}